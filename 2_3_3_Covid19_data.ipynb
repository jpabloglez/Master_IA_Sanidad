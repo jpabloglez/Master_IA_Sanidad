{
  "nbformat": 4,
  "nbformat_minor": 0,
  "metadata": {
    "colab": {
      "name": "2.3.3_Covid19_data.ipynb",
      "provenance": [],
      "collapsed_sections": [],
      "authorship_tag": "ABX9TyN8frseyc0BB9KEKdyZ6eSg",
      "include_colab_link": true
    },
    "kernelspec": {
      "name": "python3",
      "display_name": "Python 3"
    },
    "language_info": {
      "name": "python"
    }
  },
  "cells": [
    {
      "cell_type": "markdown",
      "metadata": {
        "id": "view-in-github",
        "colab_type": "text"
      },
      "source": [
        "<a href=\"https://colab.research.google.com/github/jpabloglez/Master_IA_Sanidad/blob/main/2_3_3_Covid19_data.ipynb\" target=\"_parent\"><img src=\"https://colab.research.google.com/assets/colab-badge.svg\" alt=\"Open In Colab\"/></a>"
      ]
    },
    {
      "cell_type": "code",
      "metadata": {
        "id": "Ix5Yodf936Bz"
      },
      "source": [
        "import psycopg2 # PostgreSQL database adapter -> https://pypi.org/project/psycopg2/\n",
        "import pandas as pd\n",
        "from pandas.plotting import register_matplotlib_converters \n",
        "register_matplotlib_converters() # Nos permite adaptar los formatos utilizados por pandas para definir datos del tipo fechas (y otros) a la definición \n",
        "# empleada por matplotlib\n",
        "import matplotlib.pyplot as plt\n",
        "\n",
        "# Conectamos con covid19db.org\n",
        "conn = psycopg2.connect(\n",
        "    host='covid19db.org',\n",
        "    port=5432,\n",
        "    dbname='covid19',\n",
        "    user='covid19',\n",
        "    password='covid19'\n",
        ")\n",
        "\n",
        "# Solicitamos la información que nos interesa aplicando una consulta (query) de SQL\n",
        "cur = conn.cursor()\n",
        "cur.execute(\"\"\"SELECT i.* FROM\n",
        "                (SELECT max(date) AS date, countrycode, adm_area_1\n",
        "                FROM epidemiology WHERE source=%(source)s\n",
        "                GROUP BY countrycode, adm_area_1 ) AS recent_data\n",
        "              INNER JOIN epidemiology AS i\n",
        "              ON i.date=recent_data.date \n",
        "              AND i.countrycode = recent_data.countrycode\n",
        "              AND i.adm_area_1 = recent_data.adm_area_1\n",
        "              AND i.adm_area_1 <> ''\n",
        "              AND (i.adm_area_2 IS NULL OR i.adm_area_2 = '')\n",
        "              AND i.source=%(source)s\n",
        "              ORDER by i.confirmed DESC\n",
        "            \"\"\", {'source': 'ESP_MS'})\n",
        "# Ver este enlace para acceder a las fuentes de los datos -> https://github.com/covid19db/data\n",
        "\n",
        "covid19_data = pd.DataFrame(cur.fetchall(), columns=[desc[0] for desc in cur.description])"
      ],
      "execution_count": 9,
      "outputs": []
    },
    {
      "cell_type": "code",
      "metadata": {
        "colab": {
          "base_uri": "https://localhost:8080/"
        },
        "id": "6Bmcrj044GXH",
        "outputId": "d67b4b9c-c721-4ba4-e0f7-265323c6c838"
      },
      "source": [
        "print(\"Primeras filas de la tabla:\\n\", covid19_data.head())\n",
        "print(\"Resumen de estadísiticas:\\n\", covid19_data.describe())"
      ],
      "execution_count": 17,
      "outputs": [
        {
          "output_type": "stream",
          "name": "stdout",
          "text": [
            "Primeras filas de la tabla:\n",
            "    source        date country  ... hospitalised_icu quarantined         gid\n",
            "0  ESP_MS  2021-08-26   Spain  ...             None        None   [ESP.6_1]\n",
            "1  ESP_MS  2021-08-26   Spain  ...             None        None   [ESP.8_1]\n",
            "2  ESP_MS  2021-08-27   Spain  ...             None        None   [ESP.1_1]\n",
            "3  ESP_MS  2021-08-26   Spain  ...             None        None  [ESP.10_1]\n",
            "4  ESP_MS  2021-08-26   Spain  ...             None        None   [ESP.5_1]\n",
            "\n",
            "[5 rows x 15 columns]\n",
            "Resumen de estadísiticas:\n",
            "            confirmed          dead\n",
            "count      19.000000     19.000000\n",
            "mean   253918.157895   4415.789474\n",
            "std    288820.816005   4875.519341\n",
            "min      7159.000000    101.000000\n",
            "25%     75546.500000    919.000000\n",
            "50%    136680.000000   2050.000000\n",
            "75%    272795.000000   6672.500000\n",
            "max    887826.000000  15780.000000\n"
          ]
        }
      ]
    }
  ]
}