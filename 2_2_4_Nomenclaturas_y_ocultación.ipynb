{
  "nbformat": 4,
  "nbformat_minor": 0,
  "metadata": {
    "colab": {
      "name": "2_2_4_Nomenclaturas_y_ocultación.ipynb",
      "provenance": [],
      "collapsed_sections": [],
      "authorship_tag": "ABX9TyM3PnkxvjcGxquhCP+0c/0Y",
      "include_colab_link": true
    },
    "kernelspec": {
      "name": "python3",
      "display_name": "Python 3"
    },
    "language_info": {
      "name": "python"
    }
  },
  "cells": [
    {
      "cell_type": "markdown",
      "metadata": {
        "id": "view-in-github",
        "colab_type": "text"
      },
      "source": [
        "<a href=\"https://colab.research.google.com/github/jpabloglez/Master_IA_Sanidad/blob/main/2_2_4_Nomenclaturas_y_ocultaci%C3%B3n.ipynb\" target=\"_parent\"><img src=\"https://colab.research.google.com/assets/colab-badge.svg\" alt=\"Open In Colab\"/></a>"
      ]
    },
    {
      "cell_type": "markdown",
      "source": [
        "## Nomenclaturas: uso del guión bajo"
      ],
      "metadata": {
        "id": "R56C1Y_xWENC"
      }
    },
    {
      "cell_type": "code",
      "metadata": {
        "colab": {
          "base_uri": "https://localhost:8080/"
        },
        "id": "_lX-H81XPNgU",
        "outputId": "663e028d-17c9-4742-a79c-5c2f3d7633f5"
      },
      "source": [
        "## Ejemplos de uso del guión bajo para almacenar datos\n",
        "\n",
        "# Ignorar un valor al desempaquetar una lista\n",
        "x, _, y = (1, 2, 3) \n",
        "print(\"A:\", x, y)\n",
        "# Ignorar valores múltiples\n",
        "x, *_, y = (1, 2, 3, 4, 5)\n",
        "print(\"B:\", x, y)"
      ],
      "execution_count": null,
      "outputs": [
        {
          "output_type": "stream",
          "name": "stdout",
          "text": [
            "A: 1 3\n",
            "B: 1 5\n"
          ]
        }
      ]
    },
    {
      "cell_type": "code",
      "metadata": {
        "colab": {
          "base_uri": "https://localhost:8080/"
        },
        "id": "J4_C2gnIP0uv",
        "outputId": "fca2ca86-881a-4456-c875-6e41c2b2490f"
      },
      "source": [
        "# Ignorar el índice\n",
        "for _ in range():     \n",
        "    print(\"Hola\")  "
      ],
      "execution_count": null,
      "outputs": [
        {
          "output_type": "stream",
          "name": "stdout",
          "text": [
            "Hola\n",
            "Hola\n",
            "Hola\n"
          ]
        }
      ]
    },
    {
      "cell_type": "code",
      "metadata": {
        "id": "SkW495rBQD3B"
      },
      "source": [
        "# Declarar una variable como privada\n",
        "_internal_name = 'one_nodule' # private variable\n",
        "_internal_version = '1.0' # private variable"
      ],
      "execution_count": null,
      "outputs": []
    },
    {
      "cell_type": "markdown",
      "source": [
        "## Ámbito de una clase"
      ],
      "metadata": {
        "id": "iJy16unAWPMY"
      }
    },
    {
      "cell_type": "code",
      "metadata": {
        "colab": {
          "base_uri": "https://localhost:8080/"
        },
        "id": "W63_07zLRQvy",
        "outputId": "6eba8c56-b2d3-44ef-ed11-6902fba1a961"
      },
      "source": [
        "## Ejemplos en el ámbito de las clases\n",
        "\n",
        "# Clase privada en la que definimos una variable privada\n",
        "class _SoyPrivada:\n",
        "    _soy_privado = 42\n",
        "\n",
        "objeto_privado = _SoyPrivada()\n",
        "print(\"Valor privado:\", objeto_privado._soy_privado)"
      ],
      "execution_count": null,
      "outputs": [
        {
          "output_type": "stream",
          "name": "stdout",
          "text": [
            "Valor privado: 42\n"
          ]
        }
      ]
    },
    {
      "cell_type": "code",
      "metadata": {
        "colab": {
          "base_uri": "https://localhost:8080/"
        },
        "id": "PTG11ck4SQZN",
        "outputId": "db66e450-fe03-4610-80d9-f811c865ab86"
      },
      "source": [
        "class _Clase: # clase privada\n",
        "    _factor_oculto = 2 # variable privada\n",
        "    \n",
        "    def __init__(self, precio):\n",
        "        self._precio = precio\n",
        "    \n",
        "    def _doblar_precio(self): # método privado\n",
        "        return self._precio * self._factor_oculto\n",
        "    \n",
        "    def get_doble_precio(self):\n",
        "        return self._doblar_precio() \n",
        "\n",
        "ob = _Clase(7)\n",
        "print(\"Valor:\", ob.get_doble_precio())"
      ],
      "execution_count": null,
      "outputs": [
        {
          "output_type": "stream",
          "name": "stdout",
          "text": [
            "Valor: 14\n"
          ]
        }
      ]
    },
    {
      "cell_type": "markdown",
      "source": [
        "## Encapsulación: getters y setters"
      ],
      "metadata": {
        "id": "PgHCKhFVWWTb"
      }
    },
    {
      "cell_type": "code",
      "source": [
        "class Persona:\n",
        "  def __init__(self, edad = 0):\n",
        "    self._edad = edad\n",
        "      \n",
        "  # Método getter\n",
        "  def get_edad(self):\n",
        "    return self._edad\n",
        "      \n",
        "  # Método setter\n",
        "  def set_edad(self, x):\n",
        "    self._edad = x\n",
        "# Instanci de la clase Persona  \n",
        "john = Persona()\n",
        "# Configuramos su edad\n",
        "john.set_edad(25)\n",
        "# Recuperamos la edad  \n",
        "print(\"Edad de John:\", john.get_edad())  "
      ],
      "metadata": {
        "id": "wQqqIpFzWcDO",
        "outputId": "a0f4bf0d-c4e3-42a7-f35f-d0593426088c",
        "colab": {
          "base_uri": "https://localhost:8080/"
        }
      },
      "execution_count": null,
      "outputs": [
        {
          "output_type": "stream",
          "name": "stdout",
          "text": [
            "Edad de John: 25\n"
          ]
        }
      ]
    },
    {
      "cell_type": "markdown",
      "source": [
        "## Abstracción"
      ],
      "metadata": {
        "id": "-yyqXGtOiTo1"
      }
    },
    {
      "cell_type": "code",
      "source": [
        "from abc import ABC, abstractmethod\n",
        " \n",
        "class Poligono(ABC):\n",
        "  # Definimos un metodo abstracto\n",
        "  @abstractmethod\n",
        "  def lados(self):\n",
        "    print(\"Método abstracto\")\n",
        " \n",
        "class Triangulo(Poligono):\n",
        "  # sobreescribimos el método de la clase Poligono\n",
        "  def lados(self):\n",
        "    super().lados()\n",
        "    print(\"Tengo 3 lados\")\n",
        " \n",
        "isosceles = Triangulo()\n",
        "isosceles.lados()"
      ],
      "metadata": {
        "id": "4PpYANMLihYW",
        "outputId": "4cb17aed-0b32-4b9c-e2e1-59ddfa0f8740",
        "colab": {
          "base_uri": "https://localhost:8080/"
        }
      },
      "execution_count": null,
      "outputs": [
        {
          "output_type": "stream",
          "name": "stdout",
          "text": [
            "Método abstracto\n",
            "Tengo 3 lados\n"
          ]
        }
      ]
    },
    {
      "cell_type": "markdown",
      "source": [
        "## Decoradores"
      ],
      "metadata": {
        "id": "xL9EDKj1qr6R"
      }
    },
    {
      "cell_type": "code",
      "source": [
        "# Función decorador que extiende la función suma y le permite\n",
        "# realizar operaciones sobre una lista de valores\n",
        "def suma_lista(funcion):\n",
        "    def suma_interna(lista_valores):\n",
        "        resultado = [funcion(val[0], val[1]) for val in lista_valores]\n",
        "        return resultado\n",
        "    return suma_interna\n",
        "\n",
        "\n",
        "@suma_lista\n",
        "def suma_valores(a, b):\n",
        "    return a + b\n",
        "\n",
        "print(\"Suma dos números:\", suma_valores([(1, 3)]))\n",
        "print(\"Suma lista de pares de números:\", suma_valores([(1, 3), (3, 17), (5, 5), (6, 7)]))"
      ],
      "metadata": {
        "id": "isli9uvmqvH6",
        "outputId": "830867c0-0088-49a4-fbed-26d5a200f446",
        "colab": {
          "base_uri": "https://localhost:8080/"
        }
      },
      "execution_count": null,
      "outputs": [
        {
          "output_type": "stream",
          "name": "stdout",
          "text": [
            "Suma dos números: [4]\n",
            "Suma lista de pares de números: [4, 20, 10, 13]\n"
          ]
        }
      ]
    },
    {
      "cell_type": "markdown",
      "source": [
        "# Documentación del código"
      ],
      "metadata": {
        "id": "gWv53NreFPOw"
      }
    },
    {
      "cell_type": "code",
      "source": [
        "\"\"\"\n",
        "Este script nos permite generar Poligonos y conocer su número de lados\n",
        "\"\"\"\n",
        "class Poligono():\n",
        "  \"\"\"\n",
        "  La clase polígono sirve para crear objetos poligonales\n",
        "  definidos por el número de lados que contienen\n",
        "\n",
        "  \"\"\"\n",
        "  def __init__(self, nlados):\n",
        "    \"\"\"\n",
        "    Inicializa un nuevo objeto del tipo Poligono y configura su número \n",
        "    de lados.\n",
        "\n",
        "    :params nlados: (int) número de lados del Polígono\n",
        "    \"\"\"\n",
        "    self.nlados = nlados\n",
        "\n",
        "  def set_lados(self, nlados):\n",
        "    \"\"\"\n",
        "    Método setter que configura o actualiza el número de lados de un Polígono\n",
        "\n",
        "    :params nlados: (int) número de lados del polígono\n",
        "    :returns: None \n",
        "\n",
        "    \"\"\"\n",
        "    self.nlados = nlados\n",
        "\n",
        "  def get_lados(self):\n",
        "    \"\"\"\n",
        "    Devuelve el número de lados del objeto Polígono actual\n",
        "\n",
        "    :returns: (int) número de lados del Polígono \n",
        "    \"\"\"\n",
        "    return self.nlados\n",
        "\n",
        "triangulo = Poligono(3)\n",
        "triangulo.set_lados(4)\n",
        "lados = triangulo.get_lados()\n",
        "print(\"Lados del triángulo:\", lados)\n"
      ],
      "metadata": {
        "id": "Y5IAEUIvFSeT",
        "outputId": "d22646b1-a942-4e57-a6d0-2295a10f13ed",
        "colab": {
          "base_uri": "https://localhost:8080/"
        }
      },
      "execution_count": null,
      "outputs": [
        {
          "output_type": "stream",
          "name": "stdout",
          "text": [
            "Lados del triángulo: 4\n"
          ]
        }
      ]
    },
    {
      "cell_type": "code",
      "source": [
        "help(Poligono)"
      ],
      "metadata": {
        "id": "BN9nlX1bI6xZ",
        "outputId": "dc5f144c-4eef-4955-df9d-618dac2f6ce4",
        "colab": {
          "base_uri": "https://localhost:8080/"
        }
      },
      "execution_count": null,
      "outputs": [
        {
          "output_type": "stream",
          "name": "stdout",
          "text": [
            "Help on class Poligono in module __main__:\n",
            "\n",
            "class Poligono(builtins.object)\n",
            " |  Poligono(nlados)\n",
            " |  \n",
            " |  La clase polígono sirve para crear objetos poligonales\n",
            " |  definidos por el número de lados que contienen\n",
            " |  \n",
            " |  Methods defined here:\n",
            " |  \n",
            " |  __init__(self, nlados)\n",
            " |      Inicializa un nuevo objeto del tipo Poligono y configura su número \n",
            " |      de lados.\n",
            " |      \n",
            " |      :params nlados: (int) número de lados del Polígono\n",
            " |  \n",
            " |  get_lados(self)\n",
            " |      Devuelve el número de lados del objeto Polígono actual\n",
            " |      \n",
            " |      :returns: (int) número de lados del Polígono\n",
            " |  \n",
            " |  set_lados(self, nlados)\n",
            " |      Método setter que configura o actualiza el número de lados de un Polígono\n",
            " |      \n",
            " |      :params nlados: (int) número de lados del polígono\n",
            " |      :returns: None\n",
            " |  \n",
            " |  ----------------------------------------------------------------------\n",
            " |  Data descriptors defined here:\n",
            " |  \n",
            " |  __dict__\n",
            " |      dictionary for instance variables (if defined)\n",
            " |  \n",
            " |  __weakref__\n",
            " |      list of weak references to the object (if defined)\n",
            "\n"
          ]
        }
      ]
    }
  ]
}