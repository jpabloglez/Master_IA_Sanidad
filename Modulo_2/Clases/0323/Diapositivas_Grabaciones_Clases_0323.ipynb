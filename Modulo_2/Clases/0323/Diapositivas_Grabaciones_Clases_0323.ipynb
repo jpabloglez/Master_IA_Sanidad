{
  "nbformat": 4,
  "nbformat_minor": 0,
  "metadata": {
    "colab": {
      "provenance": [],
      "authorship_tag": "ABX9TyM/apK5jjzy6Ujhgob3f4Vl",
      "include_colab_link": true
    },
    "kernelspec": {
      "name": "python3",
      "display_name": "Python 3"
    },
    "language_info": {
      "name": "python"
    }
  },
  "cells": [
    {
      "cell_type": "markdown",
      "metadata": {
        "id": "view-in-github",
        "colab_type": "text"
      },
      "source": [
        "<a href=\"https://colab.research.google.com/github/jpabloglez/Master_IA_Sanidad/blob/main/Modulo_2/Clases/0323/Diapositivas_Grabaciones_Clases_0323.ipynb\" target=\"_parent\"><img src=\"https://colab.research.google.com/assets/colab-badge.svg\" alt=\"Open In Colab\"/></a>"
      ]
    },
    {
      "cell_type": "markdown",
      "source": [
        "# Diapositivas clases Máster en aplicaciones de la Inteligencia Artificial en Sanidad: Edición 1122"
      ],
      "metadata": {
        "id": "feaXkQpoIsr4"
      }
    },
    {
      "cell_type": "markdown",
      "source": [
        "## Clase 2.2.1 \n",
        "\n",
        "[Sistemas expertos basados en reglas](https://drive.google.com/file/d/1CDJW0DXjVEu0P5Z6bbWrclJ4-h-8tjia/view?usp=sharing)"
      ],
      "metadata": {
        "id": "SAp6JlTzvDHN"
      }
    },
    {
      "cell_type": "markdown",
      "source": [
        "## Clase 2.2.2\n",
        "\n",
        "[Aprendizaje Máquina o Machine Learning modelos de regresión, clasificación y agrupamiento](https://drive.google.com/file/d/1ZgwO2KNiL_dSYM21Vr1mzEUbyC0zjGIM/view?usp=sharing)"
      ],
      "metadata": {
        "id": "2E5fNzdw1Q5U"
      }
    },
    {
      "cell_type": "markdown",
      "source": [
        "## Clase 2.2.3\n",
        "\n",
        "[Redes neuronales y aprendizaje profundo](https://drive.google.com/file/d/1oDMWcDrDuEXTo1AojKjR6mxzMgKhhDuR/view?usp=sharing)\n"
      ],
      "metadata": {
        "id": "frwJWgmY1klW"
      }
    },
    {
      "cell_type": "markdown",
      "source": [
        "## Clase 2.2.4\n",
        "\n",
        "[Selección de características y optimización de modelos](https://drive.google.com/file/d/1saAyBu956pY35aeRTCGaavegNjLdqpNy/view?usp=sharing)"
      ],
      "metadata": {
        "id": "S_ZXURbHv6TN"
      }
    },
    {
      "cell_type": "markdown",
      "source": [
        "## Clase 2.2.5\n",
        "\n",
        "[Introducción a Python](https://drive.google.com/file/d/1yWpIXk7gHVUkpjSMwTnnpLbZv1vMwkQZ/view?usp=share_link)"
      ],
      "metadata": {
        "id": "zIVXdNZB1-Ux"
      }
    },
    {
      "cell_type": "markdown",
      "source": [
        "## Clase 2.2.7\n",
        "\n",
        "[Introducción a Python (Continuación)](https://drive.google.com/file/d/1vlxFSOGVv-GlMO63XhOUNIX-s2O-3siQ/view?usp=share_link)"
      ],
      "metadata": {
        "id": "V4U47wsN2MIX"
      }
    },
    {
      "cell_type": "markdown",
      "source": [
        "## Clase 2.2.8\n",
        "\n",
        "[Orientación a objetos](https://drive.google.com/file/d/1tpr3vprwFrpgzvt7LBEUAbu6dOXzGb1d/view?usp=sharing)"
      ],
      "metadata": {
        "id": "sghmcU0l2X1_"
      }
    },
    {
      "cell_type": "markdown",
      "source": [
        "## Clase 2.2.9\n",
        "\n",
        "[Librerias Ciencia de Datos Numpy Pandas](https://drive.google.com/file/d/1aTzVSd5DW5i8d3Yaahne_drWUTikHCsy/view?usp=sharing)"
      ],
      "metadata": {
        "id": "KNc7SkIcBd4w"
      }
    },
    {
      "cell_type": "markdown",
      "source": [
        "## Clase 2.2.10\n",
        "\n",
        "[Introducción a la IA en Python. Librerías y niveles de abstracción](https://drive.google.com/file/d/11cQVvETUoT-sD9VThFviNuTd2xFIhvux/view?usp=sharing)"
      ],
      "metadata": {
        "id": "HBnltZ8dBrYj"
      }
    },
    {
      "cell_type": "markdown",
      "source": [
        "## Clase 2.2.11\n",
        "\n",
        "[Análisis de datos en Python](https://drive.google.com/file/d/1f21MNyoyhBmdyuZQXltYhYgRkNXrQEtZ/view?usp=sharing)"
      ],
      "metadata": {
        "id": "-6qQkB_JB47o"
      }
    },
    {
      "cell_type": "markdown",
      "source": [
        "## Clase 2.2.12\n",
        "\n",
        "[Estructuración de datos](https://drive.google.com/file/d/1dYyUN3O9mOV84ANti2WIiMrTiTAFJ0Fp/view?usp=share_link)"
      ],
      "metadata": {
        "id": "Q0B1mj6bCA_W"
      }
    },
    {
      "cell_type": "markdown",
      "source": [
        "## Clase 2.2.13-14\n",
        "\n",
        "[Machine Learning y Deep Learning en Python](https://drive.google.com/file/d/1WneW119gUlId_EoAxeftnqGQBZWFpNLv/view?usp=share_link)"
      ],
      "metadata": {
        "id": "vb0GRIZiCD_i"
      }
    },
    {
      "cell_type": "markdown",
      "source": [
        "## Trabajo Fin de Módulo"
      ],
      "metadata": {
        "id": "AbcGY_1PCFzl"
      }
    }
  ]
}