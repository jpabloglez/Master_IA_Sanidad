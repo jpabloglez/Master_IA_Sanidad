{
  "nbformat": 4,
  "nbformat_minor": 0,
  "metadata": {
    "colab": {
      "provenance": [],
      "authorship_tag": "ABX9TyOwn9pEGrb+a5TXqZCayh5O",
      "include_colab_link": true
    },
    "kernelspec": {
      "name": "python3",
      "display_name": "Python 3"
    },
    "language_info": {
      "name": "python"
    }
  },
  "cells": [
    {
      "cell_type": "markdown",
      "metadata": {
        "id": "view-in-github",
        "colab_type": "text"
      },
      "source": [
        "<a href=\"https://colab.research.google.com/github/jpabloglez/Master_IA_Sanidad/blob/main/Modulo_2/Clases/0524/Diapositivas_Grabaciones_Clases_0524.ipynb\" target=\"_parent\"><img src=\"https://colab.research.google.com/assets/colab-badge.svg\" alt=\"Open In Colab\"/></a>"
      ]
    },
    {
      "cell_type": "markdown",
      "source": [
        "# Diapositivas clases Máster en aplicaciones de la Inteligencia Artificial en Sanidad: Edición 0324"
      ],
      "metadata": {
        "id": "feaXkQpoIsr4"
      }
    },
    {
      "cell_type": "markdown",
      "source": [
        "## Clase 2.1 - S11\n",
        "\n",
        "[Sistemas expertos basados en reglas](https://drive.google.com/file/d/1JQd_fVhbYU22brkdXZL1rjNnPJyVnETP/view?usp=sharing)"
      ],
      "metadata": {
        "id": "SAp6JlTzvDHN"
      }
    },
    {
      "cell_type": "markdown",
      "source": [
        "## Clase 2.2 - S12\n",
        "\n",
        "[Aprendizaje Máquina o Machine Learning modelos de regresión, clasificación y agrupamiento](https://drive.google.com/file/d/1yn3YCNWD04vTEZSTKaPyp_I9q6WXpMub/view?usp=sharing)\n",
        "\n",
        "---\n",
        "\n"
      ],
      "metadata": {
        "id": "2E5fNzdw1Q5U"
      }
    },
    {
      "cell_type": "markdown",
      "source": [
        "## Clase 2.3 - S13\n",
        "\n",
        "[Redes neuronales y aprendizaje profundo](https://drive.google.com/file/d/1RfEl6-OCYHgjCrMhubuxJC3au08-l8ID/view?usp=sharing)"
      ],
      "metadata": {
        "id": "frwJWgmY1klW"
      }
    },
    {
      "cell_type": "markdown",
      "source": [
        "## Clase 2.4 - S14\n",
        "\n",
        "[Selección de características y optimización de modelos](https://drive.google.com/file/d/1jXr6so1tY0UfJsx1OOqWinGHUUW6UzRC/view?usp=sharing)"
      ],
      "metadata": {
        "id": "S_ZXURbHv6TN"
      }
    },
    {
      "cell_type": "markdown",
      "source": [
        "## Clase 2.5 - S15\n",
        "\n",
        "[Introducción a Python](https://drive.google.com/file/d/17evR8wwKMcbUuU9kILbe98evzm3lN2FL/view?usp=sharing)\n"
      ],
      "metadata": {
        "id": "zIVXdNZB1-Ux"
      }
    },
    {
      "cell_type": "markdown",
      "source": [
        "## Clase 2.6 - S16\n",
        "\n",
        "[Introducción a Python (Continuación)](https://drive.google.com/file/d/1DLcrcthh9xLn0LjFrdplMrt2VdYinAvk/view?usp=sharing)"
      ],
      "metadata": {
        "id": "V4U47wsN2MIX"
      }
    },
    {
      "cell_type": "markdown",
      "source": [
        "## Clase 2.7 - S17\n",
        "\n",
        "[Orientación a objetos](https://drive.google.com/file/d/1mhDGPA0XnnAxvQhYb4Pnw0PwBSTtDPEy/view?usp=sharing)"
      ],
      "metadata": {
        "id": "sghmcU0l2X1_"
      }
    },
    {
      "cell_type": "markdown",
      "source": [
        "## Clase 2.8 - S18\n",
        "\n",
        "[Librerias Ciencia de Datos Numpy Pandas](https://drive.google.com/file/d/1nVzW8xJhQKItiVpgNlPE7xKK37Bv72tM/view?usp=drive_link)"
      ],
      "metadata": {
        "id": "KNc7SkIcBd4w"
      }
    },
    {
      "cell_type": "markdown",
      "source": [
        "## Clase 2.9 - S19\n",
        "\n",
        "[Introducción a la IA en Python](https://drive.google.com/file/d/1nWYmYGT2q3veholQ8VW-2jLN6D3bqSDN/view?usp=drive_link)\n"
      ],
      "metadata": {
        "id": "HBnltZ8dBrYj"
      }
    },
    {
      "cell_type": "markdown",
      "source": [
        "## Clase 2.10 - S20\n",
        "\n",
        "[Análisis de datos en Python]"
      ],
      "metadata": {
        "id": "-6qQkB_JB47o"
      }
    },
    {
      "cell_type": "markdown",
      "source": [
        "## Clase 2.11 - S21\n",
        "\n",
        "[Estructuración de datos]"
      ],
      "metadata": {
        "id": "Q0B1mj6bCA_W"
      }
    },
    {
      "cell_type": "markdown",
      "source": [
        "## Clase 2.12 - S22\n",
        "\n",
        "[Machine Learning y Deep Learning en Python]"
      ],
      "metadata": {
        "id": "vb0GRIZiCD_i"
      }
    },
    {
      "cell_type": "markdown",
      "source": [
        "## Trabajo Fin de Módulo - S23\n",
        "\n",
        "[Comentarios e indicaciones]"
      ],
      "metadata": {
        "id": "AbcGY_1PCFzl"
      }
    }
  ]
}