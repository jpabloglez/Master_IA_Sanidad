{
  "nbformat": 4,
  "nbformat_minor": 0,
  "metadata": {
    "colab": {
      "name": "2_3_3_Preprocesado_y_estructuracion_de_datos.ipynb",
      "provenance": [],
      "collapsed_sections": [],
      "mount_file_id": "1lFCRWQ5huwbdZumIMPVr2vnEKL6kciLD",
      "authorship_tag": "ABX9TyPsU3EYX3hd6ID5zvdG1R7A",
      "include_colab_link": true
    },
    "kernelspec": {
      "name": "python3",
      "display_name": "Python 3"
    },
    "language_info": {
      "name": "python"
    }
  },
  "cells": [
    {
      "cell_type": "markdown",
      "metadata": {
        "id": "view-in-github",
        "colab_type": "text"
      },
      "source": [
        "<a href=\"https://colab.research.google.com/github/jpabloglez/Master_IA_Sanidad/blob/main/Modulo_2/2_3_3_Preprocesado_y_estructuracion_de_datos.ipynb\" target=\"_parent\"><img src=\"https://colab.research.google.com/assets/colab-badge.svg\" alt=\"Open In Colab\"/></a>"
      ]
    },
    {
      "cell_type": "markdown",
      "metadata": {
        "id": "Odb472Qgpsya"
      },
      "source": [
        "# Tema 2.3.3: Preprocesado y estructuración de datos"
      ]
    },
    {
      "cell_type": "markdown",
      "metadata": {
        "id": "Pls9f-Zbp4D_"
      },
      "source": [
        "## Limpieza de datos"
      ]
    },
    {
      "cell_type": "code",
      "metadata": {
        "colab": {
          "base_uri": "https://localhost:8080/"
        },
        "id": "OeSAI713nfVN",
        "outputId": "655f4a8c-0253-4e71-98fb-c7977787e80c"
      },
      "source": [
        "import pandas as pd\n",
        "df = pd.read_csv(\"/stroke-data.csv\")\n",
        "print(df)\n",
        "nans = df.isnull().values.any()\n",
        "print(\"\\n - Hay algún NaN en el dataset:\", nans)\n",
        "print(\"\\n - Dime si hay un valor NaN en la fila/columna: \\n\",df.isna())\n",
        "\n",
        "# Selecciona columnas que tengan un valor NaN\n",
        "df_n = df[df.isna().any(axis=1)]\n",
        "print(\"\\n - Columnas con NaNs:\\n\", df_n)\n",
        "\n",
        "# Eliminamos los valores NaN\n",
        "df = df.dropna()\n",
        "nans = df.isnull().values.any()\n",
        "print(\"\\n - Hay algún NaN en el dataset:\", nans)\n",
        "print(\"\\n - Dataset limpio:\", df)\n"
      ],
      "execution_count": 10,
      "outputs": [
        {
          "output_type": "stream",
          "name": "stdout",
          "text": [
            "         id  gender   age  ...   bmi   smoking_status stroke\n",
            "0      9046    Male  67.0  ...  36.6  formerly smoked      1\n",
            "1     51676  Female  61.0  ...   NaN     never smoked      1\n",
            "2     31112    Male  80.0  ...  32.5     never smoked      1\n",
            "3     60182  Female  49.0  ...  34.4           smokes      1\n",
            "4      1665  Female  79.0  ...  24.0     never smoked      1\n",
            "...     ...     ...   ...  ...   ...              ...    ...\n",
            "5105  18234  Female  80.0  ...   NaN     never smoked      0\n",
            "5106  44873  Female  81.0  ...  40.0     never smoked      0\n",
            "5107  19723  Female  35.0  ...  30.6     never smoked      0\n",
            "5108  37544    Male  51.0  ...  25.6  formerly smoked      0\n",
            "5109  44679  Female  44.0  ...  26.2          Unknown      0\n",
            "\n",
            "[5110 rows x 12 columns]\n",
            "\n",
            " - Hay algún NaN en el dataset: True\n",
            "\n",
            " - Dime si hay un valor NaN en la fila/columna: \n",
            "          id  gender    age  ...    bmi  smoking_status  stroke\n",
            "0     False   False  False  ...  False           False   False\n",
            "1     False   False  False  ...   True           False   False\n",
            "2     False   False  False  ...  False           False   False\n",
            "3     False   False  False  ...  False           False   False\n",
            "4     False   False  False  ...  False           False   False\n",
            "...     ...     ...    ...  ...    ...             ...     ...\n",
            "5105  False   False  False  ...   True           False   False\n",
            "5106  False   False  False  ...  False           False   False\n",
            "5107  False   False  False  ...  False           False   False\n",
            "5108  False   False  False  ...  False           False   False\n",
            "5109  False   False  False  ...  False           False   False\n",
            "\n",
            "[5110 rows x 12 columns]\n",
            "\n",
            " - Columnas con NaNs:\n",
            "          id  gender   age  ...  bmi   smoking_status stroke\n",
            "1     51676  Female  61.0  ...  NaN     never smoked      1\n",
            "8     27419  Female  59.0  ...  NaN          Unknown      1\n",
            "13     8213    Male  78.0  ...  NaN          Unknown      1\n",
            "19    25226    Male  57.0  ...  NaN          Unknown      1\n",
            "27    61843    Male  58.0  ...  NaN          Unknown      1\n",
            "...     ...     ...   ...  ...  ...              ...    ...\n",
            "5039  42007    Male  41.0  ...  NaN  formerly smoked      0\n",
            "5048  28788    Male  40.0  ...  NaN           smokes      0\n",
            "5093  32235  Female  45.0  ...  NaN           smokes      0\n",
            "5099   7293    Male  40.0  ...  NaN           smokes      0\n",
            "5105  18234  Female  80.0  ...  NaN     never smoked      0\n",
            "\n",
            "[201 rows x 12 columns]\n",
            "\n",
            " - Hay algún NaN en el dataset: False\n",
            "\n",
            " - Dataset limpio:          id  gender   age  ...   bmi   smoking_status stroke\n",
            "0      9046    Male  67.0  ...  36.6  formerly smoked      1\n",
            "2     31112    Male  80.0  ...  32.5     never smoked      1\n",
            "3     60182  Female  49.0  ...  34.4           smokes      1\n",
            "4      1665  Female  79.0  ...  24.0     never smoked      1\n",
            "5     56669    Male  81.0  ...  29.0  formerly smoked      1\n",
            "...     ...     ...   ...  ...   ...              ...    ...\n",
            "5104  14180  Female  13.0  ...  18.6          Unknown      0\n",
            "5106  44873  Female  81.0  ...  40.0     never smoked      0\n",
            "5107  19723  Female  35.0  ...  30.6     never smoked      0\n",
            "5108  37544    Male  51.0  ...  25.6  formerly smoked      0\n",
            "5109  44679  Female  44.0  ...  26.2          Unknown      0\n",
            "\n",
            "[4909 rows x 12 columns]\n"
          ]
        }
      ]
    }
  ]
}