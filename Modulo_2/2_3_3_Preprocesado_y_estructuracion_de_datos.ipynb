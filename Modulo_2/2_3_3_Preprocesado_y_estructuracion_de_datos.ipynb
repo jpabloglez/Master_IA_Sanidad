{
  "nbformat": 4,
  "nbformat_minor": 0,
  "metadata": {
    "colab": {
      "name": "2_3_3_Preprocesado_y_estructuracion_de_datos.ipynb",
      "provenance": [],
      "mount_file_id": "https://github.com/txusser/Master_IA_Sanidad/blob/main/Modulo_2/2_3_3_Preprocesado_y_estructuracion_de_datos.ipynb",
      "authorship_tag": "ABX9TyPfd0wX2+R6j/JHb9StBAnF",
      "include_colab_link": true
    },
    "kernelspec": {
      "name": "python3",
      "display_name": "Python 3"
    },
    "language_info": {
      "name": "python"
    }
  },
  "cells": [
    {
      "cell_type": "markdown",
      "metadata": {
        "id": "view-in-github",
        "colab_type": "text"
      },
      "source": [
        "<a href=\"https://colab.research.google.com/github/jpabloglez/Master_IA_Sanidad/blob/main/Modulo_2/2_3_3_Preprocesado_y_estructuracion_de_datos.ipynb\" target=\"_parent\"><img src=\"https://colab.research.google.com/assets/colab-badge.svg\" alt=\"Open In Colab\"/></a>"
      ]
    },
    {
      "cell_type": "markdown",
      "metadata": {
        "id": "Odb472Qgpsya"
      },
      "source": [
        "# Tema 2.3.3: Preprocesado y estructuración de datos"
      ]
    },
    {
      "cell_type": "markdown",
      "source": [
        "Montar acceso a Google *Drive*"
      ],
      "metadata": {
        "id": "w6vpwGFiK-Xg"
      }
    },
    {
      "cell_type": "code",
      "source": [
        "# Montar Google Drive\n",
        "from google.colab import drive\n",
        "drive.mount('/content/drive')"
      ],
      "metadata": {
        "colab": {
          "base_uri": "https://localhost:8080/"
        },
        "id": "zOus_kzNLJBS",
        "outputId": "0a5d3c93-53ce-403e-b076-c9f55cbb0daf"
      },
      "execution_count": 3,
      "outputs": [
        {
          "output_type": "stream",
          "name": "stdout",
          "text": [
            "Mounted at /content/drive\n"
          ]
        }
      ]
    },
    {
      "cell_type": "code",
      "source": [
        "from rich.console import Console\n",
        "console = Console()"
      ],
      "metadata": {
        "id": "mw6BpBaFL8-Z"
      },
      "execution_count": 8,
      "outputs": []
    },
    {
      "cell_type": "markdown",
      "metadata": {
        "id": "Pls9f-Zbp4D_"
      },
      "source": [
        "## Limpieza de datos"
      ]
    },
    {
      "cell_type": "code",
      "metadata": {
        "colab": {
          "base_uri": "https://localhost:8080/",
          "height": 1000
        },
        "id": "OeSAI713nfVN",
        "outputId": "f7e51678-4313-448c-eb7c-c959d4be8ed3"
      },
      "source": [
        "console.rule(\"Limpieza de datos\")\n",
        "\n",
        "import pandas as pd\n",
        "pd.set_option('display.max_columns', None)\n",
        "df = pd.read_csv(\"/content/drive/MyDrive/Documentos/Master IA/Datasets/stroke-data.csv\")\n",
        "console.log(df)\n",
        "\n",
        "nans = df.isnull().values.any()\n",
        "print(\"\\n - Hay algún NaN en el dataset:\", nans)\n",
        "print(\"\\n - Dime si hay un valor NaN en la fila/columna: \\n\",df.isna())\n",
        "\n",
        "# Selecciona columnas que tengan un valor NaN\n",
        "df_n = df[df.isna().any(axis=1)]\n",
        "print(\"\\n - Columnas con NaNs:\\n\", df_n)\n",
        "\n",
        "# Eliminamos los valores NaN\n",
        "df = df.dropna()\n",
        "nans = df.isnull().values.any()\n",
        "print(\"\\n - Hay algún NaN en el dataset: \\n\", nans)\n",
        "print(\"\\n - Dataset limpio: \\n\", df)\n"
      ],
      "execution_count": 10,
      "outputs": [
        {
          "output_type": "display_data",
          "data": {
            "text/plain": [
              "\u001b[92m──────────────────────────────────────────────── \u001b[0mLimpieza de datos\u001b[92m ────────────────────────────────────────────────\u001b[0m\n"
            ],
            "text/html": [
              "<pre style=\"white-space:pre;overflow-x:auto;line-height:normal;font-family:Menlo,'DejaVu Sans Mono',consolas,'Courier New',monospace\"><span style=\"color: #00ff00; text-decoration-color: #00ff00\">──────────────────────────────────────────────── </span>Limpieza de datos<span style=\"color: #00ff00; text-decoration-color: #00ff00\"> ────────────────────────────────────────────────</span>\n",
              "</pre>\n"
            ]
          },
          "metadata": {}
        },
        {
          "output_type": "display_data",
          "data": {
            "text/plain": [
              "\u001b[2;36m[17:13:39]\u001b[0m\u001b[2;36m \u001b[0m         id  gender   age  hypertension  heart_disease ever_married  \\ \u001b[2m<ipython-input-10-764d51a7f5ef>\u001b[0m\u001b[2m:\u001b[0m\u001b[2m6\u001b[0m\n",
              "\u001b[2;36m           \u001b[0m\u001b[1;36m0\u001b[0m      \u001b[1;36m9046\u001b[0m    Male  \u001b[1;36m67.0\u001b[0m             \u001b[1;36m0\u001b[0m              \u001b[1;36m1\u001b[0m          Yes    \u001b[2m                                 \u001b[0m\n",
              "\u001b[2;36m           \u001b[0m\u001b[1;36m1\u001b[0m     \u001b[1;36m51676\u001b[0m  Female  \u001b[1;36m61.0\u001b[0m             \u001b[1;36m0\u001b[0m              \u001b[1;36m0\u001b[0m          Yes    \u001b[2m                                 \u001b[0m\n",
              "\u001b[2;36m           \u001b[0m\u001b[1;36m2\u001b[0m     \u001b[1;36m31112\u001b[0m    Male  \u001b[1;36m80.0\u001b[0m             \u001b[1;36m0\u001b[0m              \u001b[1;36m1\u001b[0m          Yes    \u001b[2m                                 \u001b[0m\n",
              "\u001b[2;36m           \u001b[0m\u001b[1;36m3\u001b[0m     \u001b[1;36m60182\u001b[0m  Female  \u001b[1;36m49.0\u001b[0m             \u001b[1;36m0\u001b[0m              \u001b[1;36m0\u001b[0m          Yes    \u001b[2m                                 \u001b[0m\n",
              "\u001b[2;36m           \u001b[0m\u001b[1;36m4\u001b[0m      \u001b[1;36m1665\u001b[0m  Female  \u001b[1;36m79.0\u001b[0m             \u001b[1;36m1\u001b[0m              \u001b[1;36m0\u001b[0m          Yes    \u001b[2m                                 \u001b[0m\n",
              "\u001b[2;36m           \u001b[0m\u001b[33m...\u001b[0m     \u001b[33m...\u001b[0m     \u001b[33m...\u001b[0m   \u001b[33m...\u001b[0m           \u001b[33m...\u001b[0m            \u001b[33m...\u001b[0m          \u001b[33m...\u001b[0m    \u001b[2m                                 \u001b[0m\n",
              "\u001b[2;36m           \u001b[0m\u001b[1;36m5105\u001b[0m  \u001b[1;36m18234\u001b[0m  Female  \u001b[1;36m80.0\u001b[0m             \u001b[1;36m1\u001b[0m              \u001b[1;36m0\u001b[0m          Yes    \u001b[2m                                 \u001b[0m\n",
              "\u001b[2;36m           \u001b[0m\u001b[1;36m5106\u001b[0m  \u001b[1;36m44873\u001b[0m  Female  \u001b[1;36m81.0\u001b[0m             \u001b[1;36m0\u001b[0m              \u001b[1;36m0\u001b[0m          Yes    \u001b[2m                                 \u001b[0m\n",
              "\u001b[2;36m           \u001b[0m\u001b[1;36m5107\u001b[0m  \u001b[1;36m19723\u001b[0m  Female  \u001b[1;36m35.0\u001b[0m             \u001b[1;36m0\u001b[0m              \u001b[1;36m0\u001b[0m          Yes    \u001b[2m                                 \u001b[0m\n",
              "\u001b[2;36m           \u001b[0m\u001b[1;36m5108\u001b[0m  \u001b[1;36m37544\u001b[0m    Male  \u001b[1;36m51.0\u001b[0m             \u001b[1;36m0\u001b[0m              \u001b[1;36m0\u001b[0m          Yes    \u001b[2m                                 \u001b[0m\n",
              "\u001b[2;36m           \u001b[0m\u001b[1;36m5109\u001b[0m  \u001b[1;36m44679\u001b[0m  Female  \u001b[1;36m44.0\u001b[0m             \u001b[1;36m0\u001b[0m              \u001b[1;36m0\u001b[0m          Yes    \u001b[2m                                 \u001b[0m\n",
              "\u001b[2;36m           \u001b[0m                                                                       \u001b[2m                                 \u001b[0m\n",
              "\u001b[2;36m           \u001b[0m          work_type Residence_type  avg_glucose_level   bmi            \u001b[2m                                 \u001b[0m\n",
              "\u001b[2;36m           \u001b[0msmoking_status  \\                                                      \u001b[2m                                 \u001b[0m\n",
              "\u001b[2;36m           \u001b[0m\u001b[1;36m0\u001b[0m           Private          Urban             \u001b[1;36m228.69\u001b[0m  \u001b[1;36m36.6\u001b[0m  formerly  \u001b[2m                                 \u001b[0m\n",
              "\u001b[2;36m           \u001b[0msmoked                                                                 \u001b[2m                                 \u001b[0m\n",
              "\u001b[2;36m           \u001b[0m\u001b[1;36m1\u001b[0m     Self-employed          Rural             \u001b[1;36m202.21\u001b[0m   NaN     never  \u001b[2m                                 \u001b[0m\n",
              "\u001b[2;36m           \u001b[0msmoked                                                                 \u001b[2m                                 \u001b[0m\n",
              "\u001b[2;36m           \u001b[0m\u001b[1;36m2\u001b[0m           Private          Rural             \u001b[1;36m105.92\u001b[0m  \u001b[1;36m32.5\u001b[0m     never  \u001b[2m                                 \u001b[0m\n",
              "\u001b[2;36m           \u001b[0msmoked                                                                 \u001b[2m                                 \u001b[0m\n",
              "\u001b[2;36m           \u001b[0m\u001b[1;36m3\u001b[0m           Private          Urban             \u001b[1;36m171.23\u001b[0m  \u001b[1;36m34.4\u001b[0m            \u001b[2m                                 \u001b[0m\n",
              "\u001b[2;36m           \u001b[0msmokes                                                                 \u001b[2m                                 \u001b[0m\n",
              "\u001b[2;36m           \u001b[0m\u001b[1;36m4\u001b[0m     Self-employed          Rural             \u001b[1;36m174.12\u001b[0m  \u001b[1;36m24.0\u001b[0m     never  \u001b[2m                                 \u001b[0m\n",
              "\u001b[2;36m           \u001b[0msmoked                                                                 \u001b[2m                                 \u001b[0m\n",
              "\u001b[2;36m           \u001b[0m\u001b[33m...\u001b[0m             \u001b[33m...\u001b[0m            \u001b[33m...\u001b[0m                \u001b[33m...\u001b[0m   \u001b[33m...\u001b[0m            \u001b[2m                                 \u001b[0m\n",
              "\u001b[2;36m           \u001b[0m\u001b[33m...\u001b[0m                                                                    \u001b[2m                                 \u001b[0m\n",
              "\u001b[2;36m           \u001b[0m\u001b[1;36m5105\u001b[0m        Private          Urban              \u001b[1;36m83.75\u001b[0m   NaN     never  \u001b[2m                                 \u001b[0m\n",
              "\u001b[2;36m           \u001b[0msmoked                                                                 \u001b[2m                                 \u001b[0m\n",
              "\u001b[2;36m           \u001b[0m\u001b[1;36m5106\u001b[0m  Self-employed          Urban             \u001b[1;36m125.20\u001b[0m  \u001b[1;36m40.0\u001b[0m     never  \u001b[2m                                 \u001b[0m\n",
              "\u001b[2;36m           \u001b[0msmoked                                                                 \u001b[2m                                 \u001b[0m\n",
              "\u001b[2;36m           \u001b[0m\u001b[1;36m5107\u001b[0m  Self-employed          Rural              \u001b[1;36m82.99\u001b[0m  \u001b[1;36m30.6\u001b[0m     never  \u001b[2m                                 \u001b[0m\n",
              "\u001b[2;36m           \u001b[0msmoked                                                                 \u001b[2m                                 \u001b[0m\n",
              "\u001b[2;36m           \u001b[0m\u001b[1;36m5108\u001b[0m        Private          Rural             \u001b[1;36m166.29\u001b[0m  \u001b[1;36m25.6\u001b[0m  formerly  \u001b[2m                                 \u001b[0m\n",
              "\u001b[2;36m           \u001b[0msmoked                                                                 \u001b[2m                                 \u001b[0m\n",
              "\u001b[2;36m           \u001b[0m\u001b[1;36m5109\u001b[0m       Govt_job          Urban              \u001b[1;36m85.28\u001b[0m  \u001b[1;36m26.2\u001b[0m            \u001b[2m                                 \u001b[0m\n",
              "\u001b[2;36m           \u001b[0mUnknown                                                                \u001b[2m                                 \u001b[0m\n",
              "\u001b[2;36m           \u001b[0m                                                                       \u001b[2m                                 \u001b[0m\n",
              "\u001b[2;36m           \u001b[0m      stroke                                                           \u001b[2m                                 \u001b[0m\n",
              "\u001b[2;36m           \u001b[0m\u001b[1;36m0\u001b[0m          \u001b[1;36m1\u001b[0m                                                           \u001b[2m                                 \u001b[0m\n",
              "\u001b[2;36m           \u001b[0m\u001b[1;36m1\u001b[0m          \u001b[1;36m1\u001b[0m                                                           \u001b[2m                                 \u001b[0m\n",
              "\u001b[2;36m           \u001b[0m\u001b[1;36m2\u001b[0m          \u001b[1;36m1\u001b[0m                                                           \u001b[2m                                 \u001b[0m\n",
              "\u001b[2;36m           \u001b[0m\u001b[1;36m3\u001b[0m          \u001b[1;36m1\u001b[0m                                                           \u001b[2m                                 \u001b[0m\n",
              "\u001b[2;36m           \u001b[0m\u001b[1;36m4\u001b[0m          \u001b[1;36m1\u001b[0m                                                           \u001b[2m                                 \u001b[0m\n",
              "\u001b[2;36m           \u001b[0m\u001b[33m...\u001b[0m      \u001b[33m...\u001b[0m                                                           \u001b[2m                                 \u001b[0m\n",
              "\u001b[2;36m           \u001b[0m\u001b[1;36m5105\u001b[0m       \u001b[1;36m0\u001b[0m                                                           \u001b[2m                                 \u001b[0m\n",
              "\u001b[2;36m           \u001b[0m\u001b[1;36m5106\u001b[0m       \u001b[1;36m0\u001b[0m                                                           \u001b[2m                                 \u001b[0m\n",
              "\u001b[2;36m           \u001b[0m\u001b[1;36m5107\u001b[0m       \u001b[1;36m0\u001b[0m                                                           \u001b[2m                                 \u001b[0m\n",
              "\u001b[2;36m           \u001b[0m\u001b[1;36m5108\u001b[0m       \u001b[1;36m0\u001b[0m                                                           \u001b[2m                                 \u001b[0m\n",
              "\u001b[2;36m           \u001b[0m\u001b[1;36m5109\u001b[0m       \u001b[1;36m0\u001b[0m                                                           \u001b[2m                                 \u001b[0m\n",
              "\u001b[2;36m           \u001b[0m                                                                       \u001b[2m                                 \u001b[0m\n",
              "\u001b[2;36m           \u001b[0m\u001b[1m[\u001b[0m\u001b[1;36m5110\u001b[0m rows x \u001b[1;36m12\u001b[0m columns\u001b[1m]\u001b[0m                                               \u001b[2m                                 \u001b[0m\n"
            ],
            "text/html": [
              "<pre style=\"white-space:pre;overflow-x:auto;line-height:normal;font-family:Menlo,'DejaVu Sans Mono',consolas,'Courier New',monospace\"><span style=\"color: #7fbfbf; text-decoration-color: #7fbfbf\">[17:13:39] </span>         id  gender   age  hypertension  heart_disease ever_married  \\ <span style=\"color: #7f7f7f; text-decoration-color: #7f7f7f\">&lt;ipython-input-10-764d51a7f5ef&gt;:6</span>\n",
              "<span style=\"color: #7fbfbf; text-decoration-color: #7fbfbf\">           </span><span style=\"color: #008080; text-decoration-color: #008080; font-weight: bold\">0</span>      <span style=\"color: #008080; text-decoration-color: #008080; font-weight: bold\">9046</span>    Male  <span style=\"color: #008080; text-decoration-color: #008080; font-weight: bold\">67.0</span>             <span style=\"color: #008080; text-decoration-color: #008080; font-weight: bold\">0</span>              <span style=\"color: #008080; text-decoration-color: #008080; font-weight: bold\">1</span>          Yes    <span style=\"color: #7f7f7f; text-decoration-color: #7f7f7f\">                                 </span>\n",
              "<span style=\"color: #7fbfbf; text-decoration-color: #7fbfbf\">           </span><span style=\"color: #008080; text-decoration-color: #008080; font-weight: bold\">1</span>     <span style=\"color: #008080; text-decoration-color: #008080; font-weight: bold\">51676</span>  Female  <span style=\"color: #008080; text-decoration-color: #008080; font-weight: bold\">61.0</span>             <span style=\"color: #008080; text-decoration-color: #008080; font-weight: bold\">0</span>              <span style=\"color: #008080; text-decoration-color: #008080; font-weight: bold\">0</span>          Yes    <span style=\"color: #7f7f7f; text-decoration-color: #7f7f7f\">                                 </span>\n",
              "<span style=\"color: #7fbfbf; text-decoration-color: #7fbfbf\">           </span><span style=\"color: #008080; text-decoration-color: #008080; font-weight: bold\">2</span>     <span style=\"color: #008080; text-decoration-color: #008080; font-weight: bold\">31112</span>    Male  <span style=\"color: #008080; text-decoration-color: #008080; font-weight: bold\">80.0</span>             <span style=\"color: #008080; text-decoration-color: #008080; font-weight: bold\">0</span>              <span style=\"color: #008080; text-decoration-color: #008080; font-weight: bold\">1</span>          Yes    <span style=\"color: #7f7f7f; text-decoration-color: #7f7f7f\">                                 </span>\n",
              "<span style=\"color: #7fbfbf; text-decoration-color: #7fbfbf\">           </span><span style=\"color: #008080; text-decoration-color: #008080; font-weight: bold\">3</span>     <span style=\"color: #008080; text-decoration-color: #008080; font-weight: bold\">60182</span>  Female  <span style=\"color: #008080; text-decoration-color: #008080; font-weight: bold\">49.0</span>             <span style=\"color: #008080; text-decoration-color: #008080; font-weight: bold\">0</span>              <span style=\"color: #008080; text-decoration-color: #008080; font-weight: bold\">0</span>          Yes    <span style=\"color: #7f7f7f; text-decoration-color: #7f7f7f\">                                 </span>\n",
              "<span style=\"color: #7fbfbf; text-decoration-color: #7fbfbf\">           </span><span style=\"color: #008080; text-decoration-color: #008080; font-weight: bold\">4</span>      <span style=\"color: #008080; text-decoration-color: #008080; font-weight: bold\">1665</span>  Female  <span style=\"color: #008080; text-decoration-color: #008080; font-weight: bold\">79.0</span>             <span style=\"color: #008080; text-decoration-color: #008080; font-weight: bold\">1</span>              <span style=\"color: #008080; text-decoration-color: #008080; font-weight: bold\">0</span>          Yes    <span style=\"color: #7f7f7f; text-decoration-color: #7f7f7f\">                                 </span>\n",
              "<span style=\"color: #7fbfbf; text-decoration-color: #7fbfbf\">           </span><span style=\"color: #808000; text-decoration-color: #808000\">...</span>     <span style=\"color: #808000; text-decoration-color: #808000\">...</span>     <span style=\"color: #808000; text-decoration-color: #808000\">...</span>   <span style=\"color: #808000; text-decoration-color: #808000\">...</span>           <span style=\"color: #808000; text-decoration-color: #808000\">...</span>            <span style=\"color: #808000; text-decoration-color: #808000\">...</span>          <span style=\"color: #808000; text-decoration-color: #808000\">...</span>    <span style=\"color: #7f7f7f; text-decoration-color: #7f7f7f\">                                 </span>\n",
              "<span style=\"color: #7fbfbf; text-decoration-color: #7fbfbf\">           </span><span style=\"color: #008080; text-decoration-color: #008080; font-weight: bold\">5105</span>  <span style=\"color: #008080; text-decoration-color: #008080; font-weight: bold\">18234</span>  Female  <span style=\"color: #008080; text-decoration-color: #008080; font-weight: bold\">80.0</span>             <span style=\"color: #008080; text-decoration-color: #008080; font-weight: bold\">1</span>              <span style=\"color: #008080; text-decoration-color: #008080; font-weight: bold\">0</span>          Yes    <span style=\"color: #7f7f7f; text-decoration-color: #7f7f7f\">                                 </span>\n",
              "<span style=\"color: #7fbfbf; text-decoration-color: #7fbfbf\">           </span><span style=\"color: #008080; text-decoration-color: #008080; font-weight: bold\">5106</span>  <span style=\"color: #008080; text-decoration-color: #008080; font-weight: bold\">44873</span>  Female  <span style=\"color: #008080; text-decoration-color: #008080; font-weight: bold\">81.0</span>             <span style=\"color: #008080; text-decoration-color: #008080; font-weight: bold\">0</span>              <span style=\"color: #008080; text-decoration-color: #008080; font-weight: bold\">0</span>          Yes    <span style=\"color: #7f7f7f; text-decoration-color: #7f7f7f\">                                 </span>\n",
              "<span style=\"color: #7fbfbf; text-decoration-color: #7fbfbf\">           </span><span style=\"color: #008080; text-decoration-color: #008080; font-weight: bold\">5107</span>  <span style=\"color: #008080; text-decoration-color: #008080; font-weight: bold\">19723</span>  Female  <span style=\"color: #008080; text-decoration-color: #008080; font-weight: bold\">35.0</span>             <span style=\"color: #008080; text-decoration-color: #008080; font-weight: bold\">0</span>              <span style=\"color: #008080; text-decoration-color: #008080; font-weight: bold\">0</span>          Yes    <span style=\"color: #7f7f7f; text-decoration-color: #7f7f7f\">                                 </span>\n",
              "<span style=\"color: #7fbfbf; text-decoration-color: #7fbfbf\">           </span><span style=\"color: #008080; text-decoration-color: #008080; font-weight: bold\">5108</span>  <span style=\"color: #008080; text-decoration-color: #008080; font-weight: bold\">37544</span>    Male  <span style=\"color: #008080; text-decoration-color: #008080; font-weight: bold\">51.0</span>             <span style=\"color: #008080; text-decoration-color: #008080; font-weight: bold\">0</span>              <span style=\"color: #008080; text-decoration-color: #008080; font-weight: bold\">0</span>          Yes    <span style=\"color: #7f7f7f; text-decoration-color: #7f7f7f\">                                 </span>\n",
              "<span style=\"color: #7fbfbf; text-decoration-color: #7fbfbf\">           </span><span style=\"color: #008080; text-decoration-color: #008080; font-weight: bold\">5109</span>  <span style=\"color: #008080; text-decoration-color: #008080; font-weight: bold\">44679</span>  Female  <span style=\"color: #008080; text-decoration-color: #008080; font-weight: bold\">44.0</span>             <span style=\"color: #008080; text-decoration-color: #008080; font-weight: bold\">0</span>              <span style=\"color: #008080; text-decoration-color: #008080; font-weight: bold\">0</span>          Yes    <span style=\"color: #7f7f7f; text-decoration-color: #7f7f7f\">                                 </span>\n",
              "<span style=\"color: #7fbfbf; text-decoration-color: #7fbfbf\">           </span>                                                                       <span style=\"color: #7f7f7f; text-decoration-color: #7f7f7f\">                                 </span>\n",
              "<span style=\"color: #7fbfbf; text-decoration-color: #7fbfbf\">           </span>          work_type Residence_type  avg_glucose_level   bmi            <span style=\"color: #7f7f7f; text-decoration-color: #7f7f7f\">                                 </span>\n",
              "<span style=\"color: #7fbfbf; text-decoration-color: #7fbfbf\">           </span>smoking_status  \\                                                      <span style=\"color: #7f7f7f; text-decoration-color: #7f7f7f\">                                 </span>\n",
              "<span style=\"color: #7fbfbf; text-decoration-color: #7fbfbf\">           </span><span style=\"color: #008080; text-decoration-color: #008080; font-weight: bold\">0</span>           Private          Urban             <span style=\"color: #008080; text-decoration-color: #008080; font-weight: bold\">228.69</span>  <span style=\"color: #008080; text-decoration-color: #008080; font-weight: bold\">36.6</span>  formerly  <span style=\"color: #7f7f7f; text-decoration-color: #7f7f7f\">                                 </span>\n",
              "<span style=\"color: #7fbfbf; text-decoration-color: #7fbfbf\">           </span>smoked                                                                 <span style=\"color: #7f7f7f; text-decoration-color: #7f7f7f\">                                 </span>\n",
              "<span style=\"color: #7fbfbf; text-decoration-color: #7fbfbf\">           </span><span style=\"color: #008080; text-decoration-color: #008080; font-weight: bold\">1</span>     Self-employed          Rural             <span style=\"color: #008080; text-decoration-color: #008080; font-weight: bold\">202.21</span>   NaN     never  <span style=\"color: #7f7f7f; text-decoration-color: #7f7f7f\">                                 </span>\n",
              "<span style=\"color: #7fbfbf; text-decoration-color: #7fbfbf\">           </span>smoked                                                                 <span style=\"color: #7f7f7f; text-decoration-color: #7f7f7f\">                                 </span>\n",
              "<span style=\"color: #7fbfbf; text-decoration-color: #7fbfbf\">           </span><span style=\"color: #008080; text-decoration-color: #008080; font-weight: bold\">2</span>           Private          Rural             <span style=\"color: #008080; text-decoration-color: #008080; font-weight: bold\">105.92</span>  <span style=\"color: #008080; text-decoration-color: #008080; font-weight: bold\">32.5</span>     never  <span style=\"color: #7f7f7f; text-decoration-color: #7f7f7f\">                                 </span>\n",
              "<span style=\"color: #7fbfbf; text-decoration-color: #7fbfbf\">           </span>smoked                                                                 <span style=\"color: #7f7f7f; text-decoration-color: #7f7f7f\">                                 </span>\n",
              "<span style=\"color: #7fbfbf; text-decoration-color: #7fbfbf\">           </span><span style=\"color: #008080; text-decoration-color: #008080; font-weight: bold\">3</span>           Private          Urban             <span style=\"color: #008080; text-decoration-color: #008080; font-weight: bold\">171.23</span>  <span style=\"color: #008080; text-decoration-color: #008080; font-weight: bold\">34.4</span>            <span style=\"color: #7f7f7f; text-decoration-color: #7f7f7f\">                                 </span>\n",
              "<span style=\"color: #7fbfbf; text-decoration-color: #7fbfbf\">           </span>smokes                                                                 <span style=\"color: #7f7f7f; text-decoration-color: #7f7f7f\">                                 </span>\n",
              "<span style=\"color: #7fbfbf; text-decoration-color: #7fbfbf\">           </span><span style=\"color: #008080; text-decoration-color: #008080; font-weight: bold\">4</span>     Self-employed          Rural             <span style=\"color: #008080; text-decoration-color: #008080; font-weight: bold\">174.12</span>  <span style=\"color: #008080; text-decoration-color: #008080; font-weight: bold\">24.0</span>     never  <span style=\"color: #7f7f7f; text-decoration-color: #7f7f7f\">                                 </span>\n",
              "<span style=\"color: #7fbfbf; text-decoration-color: #7fbfbf\">           </span>smoked                                                                 <span style=\"color: #7f7f7f; text-decoration-color: #7f7f7f\">                                 </span>\n",
              "<span style=\"color: #7fbfbf; text-decoration-color: #7fbfbf\">           </span><span style=\"color: #808000; text-decoration-color: #808000\">...</span>             <span style=\"color: #808000; text-decoration-color: #808000\">...</span>            <span style=\"color: #808000; text-decoration-color: #808000\">...</span>                <span style=\"color: #808000; text-decoration-color: #808000\">...</span>   <span style=\"color: #808000; text-decoration-color: #808000\">...</span>            <span style=\"color: #7f7f7f; text-decoration-color: #7f7f7f\">                                 </span>\n",
              "<span style=\"color: #7fbfbf; text-decoration-color: #7fbfbf\">           </span><span style=\"color: #808000; text-decoration-color: #808000\">...</span>                                                                    <span style=\"color: #7f7f7f; text-decoration-color: #7f7f7f\">                                 </span>\n",
              "<span style=\"color: #7fbfbf; text-decoration-color: #7fbfbf\">           </span><span style=\"color: #008080; text-decoration-color: #008080; font-weight: bold\">5105</span>        Private          Urban              <span style=\"color: #008080; text-decoration-color: #008080; font-weight: bold\">83.75</span>   NaN     never  <span style=\"color: #7f7f7f; text-decoration-color: #7f7f7f\">                                 </span>\n",
              "<span style=\"color: #7fbfbf; text-decoration-color: #7fbfbf\">           </span>smoked                                                                 <span style=\"color: #7f7f7f; text-decoration-color: #7f7f7f\">                                 </span>\n",
              "<span style=\"color: #7fbfbf; text-decoration-color: #7fbfbf\">           </span><span style=\"color: #008080; text-decoration-color: #008080; font-weight: bold\">5106</span>  Self-employed          Urban             <span style=\"color: #008080; text-decoration-color: #008080; font-weight: bold\">125.20</span>  <span style=\"color: #008080; text-decoration-color: #008080; font-weight: bold\">40.0</span>     never  <span style=\"color: #7f7f7f; text-decoration-color: #7f7f7f\">                                 </span>\n",
              "<span style=\"color: #7fbfbf; text-decoration-color: #7fbfbf\">           </span>smoked                                                                 <span style=\"color: #7f7f7f; text-decoration-color: #7f7f7f\">                                 </span>\n",
              "<span style=\"color: #7fbfbf; text-decoration-color: #7fbfbf\">           </span><span style=\"color: #008080; text-decoration-color: #008080; font-weight: bold\">5107</span>  Self-employed          Rural              <span style=\"color: #008080; text-decoration-color: #008080; font-weight: bold\">82.99</span>  <span style=\"color: #008080; text-decoration-color: #008080; font-weight: bold\">30.6</span>     never  <span style=\"color: #7f7f7f; text-decoration-color: #7f7f7f\">                                 </span>\n",
              "<span style=\"color: #7fbfbf; text-decoration-color: #7fbfbf\">           </span>smoked                                                                 <span style=\"color: #7f7f7f; text-decoration-color: #7f7f7f\">                                 </span>\n",
              "<span style=\"color: #7fbfbf; text-decoration-color: #7fbfbf\">           </span><span style=\"color: #008080; text-decoration-color: #008080; font-weight: bold\">5108</span>        Private          Rural             <span style=\"color: #008080; text-decoration-color: #008080; font-weight: bold\">166.29</span>  <span style=\"color: #008080; text-decoration-color: #008080; font-weight: bold\">25.6</span>  formerly  <span style=\"color: #7f7f7f; text-decoration-color: #7f7f7f\">                                 </span>\n",
              "<span style=\"color: #7fbfbf; text-decoration-color: #7fbfbf\">           </span>smoked                                                                 <span style=\"color: #7f7f7f; text-decoration-color: #7f7f7f\">                                 </span>\n",
              "<span style=\"color: #7fbfbf; text-decoration-color: #7fbfbf\">           </span><span style=\"color: #008080; text-decoration-color: #008080; font-weight: bold\">5109</span>       Govt_job          Urban              <span style=\"color: #008080; text-decoration-color: #008080; font-weight: bold\">85.28</span>  <span style=\"color: #008080; text-decoration-color: #008080; font-weight: bold\">26.2</span>            <span style=\"color: #7f7f7f; text-decoration-color: #7f7f7f\">                                 </span>\n",
              "<span style=\"color: #7fbfbf; text-decoration-color: #7fbfbf\">           </span>Unknown                                                                <span style=\"color: #7f7f7f; text-decoration-color: #7f7f7f\">                                 </span>\n",
              "<span style=\"color: #7fbfbf; text-decoration-color: #7fbfbf\">           </span>                                                                       <span style=\"color: #7f7f7f; text-decoration-color: #7f7f7f\">                                 </span>\n",
              "<span style=\"color: #7fbfbf; text-decoration-color: #7fbfbf\">           </span>      stroke                                                           <span style=\"color: #7f7f7f; text-decoration-color: #7f7f7f\">                                 </span>\n",
              "<span style=\"color: #7fbfbf; text-decoration-color: #7fbfbf\">           </span><span style=\"color: #008080; text-decoration-color: #008080; font-weight: bold\">0</span>          <span style=\"color: #008080; text-decoration-color: #008080; font-weight: bold\">1</span>                                                           <span style=\"color: #7f7f7f; text-decoration-color: #7f7f7f\">                                 </span>\n",
              "<span style=\"color: #7fbfbf; text-decoration-color: #7fbfbf\">           </span><span style=\"color: #008080; text-decoration-color: #008080; font-weight: bold\">1</span>          <span style=\"color: #008080; text-decoration-color: #008080; font-weight: bold\">1</span>                                                           <span style=\"color: #7f7f7f; text-decoration-color: #7f7f7f\">                                 </span>\n",
              "<span style=\"color: #7fbfbf; text-decoration-color: #7fbfbf\">           </span><span style=\"color: #008080; text-decoration-color: #008080; font-weight: bold\">2</span>          <span style=\"color: #008080; text-decoration-color: #008080; font-weight: bold\">1</span>                                                           <span style=\"color: #7f7f7f; text-decoration-color: #7f7f7f\">                                 </span>\n",
              "<span style=\"color: #7fbfbf; text-decoration-color: #7fbfbf\">           </span><span style=\"color: #008080; text-decoration-color: #008080; font-weight: bold\">3</span>          <span style=\"color: #008080; text-decoration-color: #008080; font-weight: bold\">1</span>                                                           <span style=\"color: #7f7f7f; text-decoration-color: #7f7f7f\">                                 </span>\n",
              "<span style=\"color: #7fbfbf; text-decoration-color: #7fbfbf\">           </span><span style=\"color: #008080; text-decoration-color: #008080; font-weight: bold\">4</span>          <span style=\"color: #008080; text-decoration-color: #008080; font-weight: bold\">1</span>                                                           <span style=\"color: #7f7f7f; text-decoration-color: #7f7f7f\">                                 </span>\n",
              "<span style=\"color: #7fbfbf; text-decoration-color: #7fbfbf\">           </span><span style=\"color: #808000; text-decoration-color: #808000\">...</span>      <span style=\"color: #808000; text-decoration-color: #808000\">...</span>                                                           <span style=\"color: #7f7f7f; text-decoration-color: #7f7f7f\">                                 </span>\n",
              "<span style=\"color: #7fbfbf; text-decoration-color: #7fbfbf\">           </span><span style=\"color: #008080; text-decoration-color: #008080; font-weight: bold\">5105</span>       <span style=\"color: #008080; text-decoration-color: #008080; font-weight: bold\">0</span>                                                           <span style=\"color: #7f7f7f; text-decoration-color: #7f7f7f\">                                 </span>\n",
              "<span style=\"color: #7fbfbf; text-decoration-color: #7fbfbf\">           </span><span style=\"color: #008080; text-decoration-color: #008080; font-weight: bold\">5106</span>       <span style=\"color: #008080; text-decoration-color: #008080; font-weight: bold\">0</span>                                                           <span style=\"color: #7f7f7f; text-decoration-color: #7f7f7f\">                                 </span>\n",
              "<span style=\"color: #7fbfbf; text-decoration-color: #7fbfbf\">           </span><span style=\"color: #008080; text-decoration-color: #008080; font-weight: bold\">5107</span>       <span style=\"color: #008080; text-decoration-color: #008080; font-weight: bold\">0</span>                                                           <span style=\"color: #7f7f7f; text-decoration-color: #7f7f7f\">                                 </span>\n",
              "<span style=\"color: #7fbfbf; text-decoration-color: #7fbfbf\">           </span><span style=\"color: #008080; text-decoration-color: #008080; font-weight: bold\">5108</span>       <span style=\"color: #008080; text-decoration-color: #008080; font-weight: bold\">0</span>                                                           <span style=\"color: #7f7f7f; text-decoration-color: #7f7f7f\">                                 </span>\n",
              "<span style=\"color: #7fbfbf; text-decoration-color: #7fbfbf\">           </span><span style=\"color: #008080; text-decoration-color: #008080; font-weight: bold\">5109</span>       <span style=\"color: #008080; text-decoration-color: #008080; font-weight: bold\">0</span>                                                           <span style=\"color: #7f7f7f; text-decoration-color: #7f7f7f\">                                 </span>\n",
              "<span style=\"color: #7fbfbf; text-decoration-color: #7fbfbf\">           </span>                                                                       <span style=\"color: #7f7f7f; text-decoration-color: #7f7f7f\">                                 </span>\n",
              "<span style=\"color: #7fbfbf; text-decoration-color: #7fbfbf\">           </span><span style=\"font-weight: bold\">[</span><span style=\"color: #008080; text-decoration-color: #008080; font-weight: bold\">5110</span> rows x <span style=\"color: #008080; text-decoration-color: #008080; font-weight: bold\">12</span> columns<span style=\"font-weight: bold\">]</span>                                               <span style=\"color: #7f7f7f; text-decoration-color: #7f7f7f\">                                 </span>\n",
              "</pre>\n"
            ]
          },
          "metadata": {}
        },
        {
          "output_type": "stream",
          "name": "stdout",
          "text": [
            "\n",
            " - Hay algún NaN en el dataset: True\n",
            "\n",
            " - Dime si hay un valor NaN en la fila/columna: \n",
            "          id  gender    age  hypertension  heart_disease  ever_married  \\\n",
            "0     False   False  False         False          False         False   \n",
            "1     False   False  False         False          False         False   \n",
            "2     False   False  False         False          False         False   \n",
            "3     False   False  False         False          False         False   \n",
            "4     False   False  False         False          False         False   \n",
            "...     ...     ...    ...           ...            ...           ...   \n",
            "5105  False   False  False         False          False         False   \n",
            "5106  False   False  False         False          False         False   \n",
            "5107  False   False  False         False          False         False   \n",
            "5108  False   False  False         False          False         False   \n",
            "5109  False   False  False         False          False         False   \n",
            "\n",
            "      work_type  Residence_type  avg_glucose_level    bmi  smoking_status  \\\n",
            "0         False           False              False  False           False   \n",
            "1         False           False              False   True           False   \n",
            "2         False           False              False  False           False   \n",
            "3         False           False              False  False           False   \n",
            "4         False           False              False  False           False   \n",
            "...         ...             ...                ...    ...             ...   \n",
            "5105      False           False              False   True           False   \n",
            "5106      False           False              False  False           False   \n",
            "5107      False           False              False  False           False   \n",
            "5108      False           False              False  False           False   \n",
            "5109      False           False              False  False           False   \n",
            "\n",
            "      stroke  \n",
            "0      False  \n",
            "1      False  \n",
            "2      False  \n",
            "3      False  \n",
            "4      False  \n",
            "...      ...  \n",
            "5105   False  \n",
            "5106   False  \n",
            "5107   False  \n",
            "5108   False  \n",
            "5109   False  \n",
            "\n",
            "[5110 rows x 12 columns]\n",
            "\n",
            " - Columnas con NaNs:\n",
            "          id  gender   age  hypertension  heart_disease ever_married  \\\n",
            "1     51676  Female  61.0             0              0          Yes   \n",
            "8     27419  Female  59.0             0              0          Yes   \n",
            "13     8213    Male  78.0             0              1          Yes   \n",
            "19    25226    Male  57.0             0              1           No   \n",
            "27    61843    Male  58.0             0              0          Yes   \n",
            "...     ...     ...   ...           ...            ...          ...   \n",
            "5039  42007    Male  41.0             0              0           No   \n",
            "5048  28788    Male  40.0             0              0          Yes   \n",
            "5093  32235  Female  45.0             1              0          Yes   \n",
            "5099   7293    Male  40.0             0              0          Yes   \n",
            "5105  18234  Female  80.0             1              0          Yes   \n",
            "\n",
            "          work_type Residence_type  avg_glucose_level  bmi   smoking_status  \\\n",
            "1     Self-employed          Rural             202.21  NaN     never smoked   \n",
            "8           Private          Rural              76.15  NaN          Unknown   \n",
            "13          Private          Urban             219.84  NaN          Unknown   \n",
            "19         Govt_job          Urban             217.08  NaN          Unknown   \n",
            "27          Private          Rural             189.84  NaN          Unknown   \n",
            "...             ...            ...                ...  ...              ...   \n",
            "5039        Private          Rural              70.15  NaN  formerly smoked   \n",
            "5048        Private          Urban             191.15  NaN           smokes   \n",
            "5093       Govt_job          Rural              95.02  NaN           smokes   \n",
            "5099        Private          Rural              83.94  NaN           smokes   \n",
            "5105        Private          Urban              83.75  NaN     never smoked   \n",
            "\n",
            "      stroke  \n",
            "1          1  \n",
            "8          1  \n",
            "13         1  \n",
            "19         1  \n",
            "27         1  \n",
            "...      ...  \n",
            "5039       0  \n",
            "5048       0  \n",
            "5093       0  \n",
            "5099       0  \n",
            "5105       0  \n",
            "\n",
            "[201 rows x 12 columns]\n",
            "\n",
            " - Hay algún NaN en el dataset: \n",
            " False\n",
            "\n",
            " - Dataset limpio: \n",
            "          id  gender   age  hypertension  heart_disease ever_married  \\\n",
            "0      9046    Male  67.0             0              1          Yes   \n",
            "2     31112    Male  80.0             0              1          Yes   \n",
            "3     60182  Female  49.0             0              0          Yes   \n",
            "4      1665  Female  79.0             1              0          Yes   \n",
            "5     56669    Male  81.0             0              0          Yes   \n",
            "...     ...     ...   ...           ...            ...          ...   \n",
            "5104  14180  Female  13.0             0              0           No   \n",
            "5106  44873  Female  81.0             0              0          Yes   \n",
            "5107  19723  Female  35.0             0              0          Yes   \n",
            "5108  37544    Male  51.0             0              0          Yes   \n",
            "5109  44679  Female  44.0             0              0          Yes   \n",
            "\n",
            "          work_type Residence_type  avg_glucose_level   bmi   smoking_status  \\\n",
            "0           Private          Urban             228.69  36.6  formerly smoked   \n",
            "2           Private          Rural             105.92  32.5     never smoked   \n",
            "3           Private          Urban             171.23  34.4           smokes   \n",
            "4     Self-employed          Rural             174.12  24.0     never smoked   \n",
            "5           Private          Urban             186.21  29.0  formerly smoked   \n",
            "...             ...            ...                ...   ...              ...   \n",
            "5104       children          Rural             103.08  18.6          Unknown   \n",
            "5106  Self-employed          Urban             125.20  40.0     never smoked   \n",
            "5107  Self-employed          Rural              82.99  30.6     never smoked   \n",
            "5108        Private          Rural             166.29  25.6  formerly smoked   \n",
            "5109       Govt_job          Urban              85.28  26.2          Unknown   \n",
            "\n",
            "      stroke  \n",
            "0          1  \n",
            "2          1  \n",
            "3          1  \n",
            "4          1  \n",
            "5          1  \n",
            "...      ...  \n",
            "5104       0  \n",
            "5106       0  \n",
            "5107       0  \n",
            "5108       0  \n",
            "5109       0  \n",
            "\n",
            "[4909 rows x 12 columns]\n"
          ]
        }
      ]
    },
    {
      "cell_type": "markdown",
      "metadata": {
        "id": "IeRheKQO6Sgb"
      },
      "source": [
        "## Transformación de *datos*\n",
        "\n",
        "La función `MinMaxScaler` de la librería Scikit-learn (sklearn) es una técnica de preprocesamiento utilizada para escalar los valores de características (features) de un conjunto de datos a un rango específico. La idea detrás del MinMaxScaler es transformar los datos de manera que todos los valores de características se encuentren dentro del rango especificado, generalmente (0, 1), aunque también se puede especificar otro rango.\n",
        "\n",
        "La fórmula utilizada para escalar los datos con MinMaxScaler es la siguiente:\n",
        "\n",
        "```\n",
        "X_scaled = (X - X_min) / (X_max - X_min)\n",
        "```\n",
        "\n",
        "donde:\n",
        "- `X` es el valor original de una característica.\n",
        "- `X_min` es el valor mínimo de esa característica en el conjunto de datos.\n",
        "- `X_max` es el valor máximo de esa característica en el conjunto de datos.\n",
        "\n",
        "La función MinMaxScaler es útil cuando queremos llevar todas las características de nuestros datos a la misma escala, lo que puede ser beneficioso para ciertos algoritmos de aprendizaje automático que son sensibles a las escalas de las características, como el descenso de gradiente o los algoritmos basados en distancias (k-NN, SVM, etc.).\n"
      ]
    },
    {
      "cell_type": "code",
      "metadata": {
        "colab": {
          "base_uri": "https://localhost:8080/"
        },
        "id": "yE6S1_VA6YIn",
        "outputId": "1bc1b4d9-6cbd-4f00-a17e-c586d084b41f"
      },
      "source": [
        "import pandas as pd\n",
        "from sklearn.preprocessing import MinMaxScaler\n",
        "\n",
        "# Creamos el MinMaxScaler\n",
        "scaler = MinMaxScaler(feature_range=(0, 1))\n",
        "\n",
        "# Seleccionamos columnas con valores numéricos de interés\n",
        "columns_to_scale = ['age', 'avg_glucose_level', 'bmi']\n",
        "df_s = df[columns_to_scale]\n",
        "\n",
        "# Imprimimos los datos originales\n",
        "print(\" => Datos NO rescalados: \\n\", df_s.head())\n",
        "\n",
        "# Aplicamos la función de scaling\n",
        "df_scaled = pd.DataFrame(scaler.fit_transform(df_s), columns=columns_to_scale)\n",
        "\n",
        "# Imprimimos los datos rescalados\n",
        "print(\" => Datos rescalados: \\n\", df_scaled.head())\n"
      ],
      "execution_count": 11,
      "outputs": [
        {
          "output_type": "stream",
          "name": "stdout",
          "text": [
            " => Datos NO rescalados: \n",
            "     age  avg_glucose_level   bmi\n",
            "0  67.0             228.69  36.6\n",
            "2  80.0             105.92  32.5\n",
            "3  49.0             171.23  34.4\n",
            "4  79.0             174.12  24.0\n",
            "5  81.0             186.21  29.0\n",
            " => Datos rescalados: \n",
            "         age  avg_glucose_level       bmi\n",
            "0  0.816895           0.801265  0.301260\n",
            "1  0.975586           0.234512  0.254296\n",
            "2  0.597168           0.536008  0.276060\n",
            "3  0.963379           0.549349  0.156930\n",
            "4  0.987793           0.605161  0.214204\n"
          ]
        }
      ]
    },
    {
      "cell_type": "code",
      "metadata": {
        "colab": {
          "base_uri": "https://localhost:8080/",
          "height": 490
        },
        "id": "YHyiDLCVJdz9",
        "outputId": "24621fd5-2196-4690-8694-cadd45a9c156"
      },
      "source": [
        "# Normalización\n",
        "df_norm = (df_scaled - df_scaled.mean()) / df_scaled.std()\n",
        "\n",
        "# Veámos el resultado\n",
        "import matplotlib.pyplot as plt\n",
        "fig = plt.figure(1, figsize=(12, 5))\n",
        "plt.subplot(131)\n",
        "plt.hist(df['bmi'].values)\n",
        "plt.title(\"Inicial\")\n",
        "plt.subplot(132)\n",
        "plt.hist(df_scaled['bmi'].values)\n",
        "plt.title(\"Rescalado\")\n",
        "plt.subplot(133)\n",
        "plt.hist(df_norm['bmi'].values)\n",
        "plt.title(\"Normalizado\")"
      ],
      "execution_count": 12,
      "outputs": [
        {
          "output_type": "execute_result",
          "data": {
            "text/plain": [
              "Text(0.5, 1.0, 'Normalizado')"
            ]
          },
          "metadata": {},
          "execution_count": 12
        },
        {
          "output_type": "display_data",
          "data": {
            "text/plain": [
              "<Figure size 1200x500 with 3 Axes>"
            ],
            "image/png": "[encoded data removed]"
          },
          "metadata": {}
        }
      ]
    },
    {
      "cell_type": "markdown",
      "source": [
        "## Codificación de variables categóricas"
      ],
      "metadata": {
        "id": "bJdelFQANaBY"
      }
    },
    {
      "cell_type": "code",
      "source": [
        "# Ejemplo de codificación one-hot con pandas\n",
        "df = df[['id', 'age', 'bmi', 'gender']]\n",
        "cod_gen = pd.get_dummies(df, prefix='gender')\n",
        "print(cod_gen.head())"
      ],
      "metadata": {
        "colab": {
          "base_uri": "https://localhost:8080/"
        },
        "id": "zYBZI9yyNfWs",
        "outputId": "3e0610d6-3168-4dd7-c27b-ed7e1f4ed135"
      },
      "execution_count": 13,
      "outputs": [
        {
          "output_type": "stream",
          "name": "stdout",
          "text": [
            "      id   age   bmi  gender_Female  gender_Male  gender_Other\n",
            "0   9046  67.0  36.6              0            1             0\n",
            "2  31112  80.0  32.5              0            1             0\n",
            "3  60182  49.0  34.4              1            0             0\n",
            "4   1665  79.0  24.0              1            0             0\n",
            "5  56669  81.0  29.0              0            1             0\n"
          ]
        }
      ]
    },
    {
      "cell_type": "markdown",
      "source": [
        "## Codificación de variables categóricas\n",
        "\n",
        "* **LabelBinarizer**: Es una clase de Scikit-learn que se utiliza para binarizar etiquetas (categorías) en una variable categórica. En otras palabras, convierte una variable categórica en una representación binaria (0 o 1). Cuando usas fit_transform() en una columna de un DataFrame, convierte las categorías en columnas binarias donde cada columna representa una categoría y tiene un valor de 1 si la fila pertenece a esa categoría y 0 si no.\n",
        "En el código, hemos aplicado LabelBinarizer a la columna 'gender' de un DataFrame de ejemplo, donde 'Male' y 'Female' son las categorías. El resultado es una matriz binaria donde cada fila representa un dato de 'gender', y hay dos columnas, una para 'Male' y otra para 'Female'.\n",
        "\n",
        "* **OneHotEncoder**: Se utiliza para convertir variables categóricas en un formato denominado \"one-hot encoding\" o \"one-out-of-N encoding\". Esto implica que cada categoría se representa mediante una matriz binaria donde solo hay un valor de 1 y el resto son 0.\n",
        "En el código, hemos aplicado LabelBinarizer previamente para obtener una matriz binaria y luego usamos OneHotEncoder para convertir esa matriz en un formato \"one-hot encoding\". El resultado es una matriz con una columna para cada categoría, y en cada fila hay un 1 en la columna correspondiente a la categoría y 0 en todas las demás columnas."
      ],
      "metadata": {
        "id": "Sd1Ye8cbM2L6"
      }
    },
    {
      "cell_type": "code",
      "source": [
        "import pandas as pd\n",
        "from sklearn.preprocessing import LabelBinarizer, OneHotEncoder\n",
        "\n",
        "# Ejemplo de DataFrame de prueba\n",
        "data = pd.DataFrame({'gender': ['Male', 'Female', 'Female', 'Male', 'Male']})\n",
        "\n",
        "# LabelBinarizer\n",
        "label_binarizer = LabelBinarizer()\n",
        "data_lb = label_binarizer.fit_transform(data['gender'])\n",
        "print(\"LabelBinarizer Output:\\n\", data_lb)\n",
        "\n",
        "# OneHotEncoder\n",
        "onehot_encoder = OneHotEncoder()\n",
        "data_ohe = onehot_encoder.fit_transform(data_lb)\n",
        "print(\"OneHotEncoder Output:\\n\", data_ohe.toarray())\n"
      ],
      "metadata": {
        "colab": {
          "base_uri": "https://localhost:8080/"
        },
        "id": "LdjQWMkXOucV",
        "outputId": "739ff61f-0170-4427-d622-3e7c1f60bce2"
      },
      "execution_count": 15,
      "outputs": [
        {
          "output_type": "stream",
          "name": "stdout",
          "text": [
            "LabelBinarizer Output:\n",
            " [[1]\n",
            " [0]\n",
            " [0]\n",
            " [1]\n",
            " [1]]\n",
            "OneHotEncoder Output:\n",
            " [[0. 1.]\n",
            " [1. 0.]\n",
            " [1. 0.]\n",
            " [0. 1.]\n",
            " [0. 1.]]\n"
          ]
        }
      ]
    }
  ]
}