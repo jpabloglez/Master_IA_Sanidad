{
  "nbformat": 4,
  "nbformat_minor": 0,
  "metadata": {
    "colab": {
      "name": "2_3_3_Preprocesado_y_estructuracion_de_datos.ipynb",
      "provenance": [],
      "collapsed_sections": [],
      "mount_file_id": "1lFCRWQ5huwbdZumIMPVr2vnEKL6kciLD",
      "authorship_tag": "ABX9TyO47QSVY4BsXJJ/gvOXJ6c/",
      "include_colab_link": true
    },
    "kernelspec": {
      "name": "python3",
      "display_name": "Python 3"
    },
    "language_info": {
      "name": "python"
    }
  },
  "cells": [
    {
      "cell_type": "markdown",
      "metadata": {
        "id": "view-in-github",
        "colab_type": "text"
      },
      "source": [
        "<a href=\"https://colab.research.google.com/github/jpabloglez/Master_IA_Sanidad/blob/main/Modulo_2/2_3_3_Preprocesado_y_estructuracion_de_datos.ipynb\" target=\"_parent\"><img src=\"https://colab.research.google.com/assets/colab-badge.svg\" alt=\"Open In Colab\"/></a>"
      ]
    },
    {
      "cell_type": "markdown",
      "metadata": {
        "id": "Odb472Qgpsya"
      },
      "source": [
        "# Tema 2.3.3: Preprocesado y estructuración de datos"
      ]
    },
    {
      "cell_type": "markdown",
      "metadata": {
        "id": "Pls9f-Zbp4D_"
      },
      "source": [
        "## Limpieza de datos"
      ]
    },
    {
      "cell_type": "code",
      "metadata": {
        "colab": {
          "base_uri": "https://localhost:8080/"
        },
        "id": "OeSAI713nfVN",
        "outputId": "f3852c02-e422-40ec-be5d-42338ee24daf"
      },
      "source": [
        "import pandas as pd\n",
        "pd.set_option('display.max_columns', None)\n",
        "df = pd.read_csv(\"stroke-data.csv\")\n",
        "print(df)\n",
        "nans = df.isnull().values.any()\n",
        "print(\"\\n - Hay algún NaN en el dataset:\", nans)\n",
        "print(\"\\n - Dime si hay un valor NaN en la fila/columna: \\n\",df.isna())\n",
        "\n",
        "# Selecciona columnas que tengan un valor NaN\n",
        "df_n = df[df.isna().any(axis=1)]\n",
        "print(\"\\n - Columnas con NaNs:\\n\", df_n)\n",
        "\n",
        "# Eliminamos los valores NaN\n",
        "df = df.dropna()\n",
        "nans = df.isnull().values.any()\n",
        "print(\"\\n - Hay algún NaN en el dataset: \\n\", nans)\n",
        "print(\"\\n - Dataset limpio: \\n\", df)\n"
      ],
      "execution_count": 5,
      "outputs": [
        {
          "output_type": "stream",
          "name": "stdout",
          "text": [
            "         id  gender   age  hypertension  heart_disease ever_married  \\\n",
            "0      9046    Male  67.0             0              1          Yes   \n",
            "1     51676  Female  61.0             0              0          Yes   \n",
            "2     31112    Male  80.0             0              1          Yes   \n",
            "3     60182  Female  49.0             0              0          Yes   \n",
            "4      1665  Female  79.0             1              0          Yes   \n",
            "...     ...     ...   ...           ...            ...          ...   \n",
            "5105  18234  Female  80.0             1              0          Yes   \n",
            "5106  44873  Female  81.0             0              0          Yes   \n",
            "5107  19723  Female  35.0             0              0          Yes   \n",
            "5108  37544    Male  51.0             0              0          Yes   \n",
            "5109  44679  Female  44.0             0              0          Yes   \n",
            "\n",
            "          work_type Residence_type  avg_glucose_level   bmi   smoking_status  \\\n",
            "0           Private          Urban             228.69  36.6  formerly smoked   \n",
            "1     Self-employed          Rural             202.21   NaN     never smoked   \n",
            "2           Private          Rural             105.92  32.5     never smoked   \n",
            "3           Private          Urban             171.23  34.4           smokes   \n",
            "4     Self-employed          Rural             174.12  24.0     never smoked   \n",
            "...             ...            ...                ...   ...              ...   \n",
            "5105        Private          Urban              83.75   NaN     never smoked   \n",
            "5106  Self-employed          Urban             125.20  40.0     never smoked   \n",
            "5107  Self-employed          Rural              82.99  30.6     never smoked   \n",
            "5108        Private          Rural             166.29  25.6  formerly smoked   \n",
            "5109       Govt_job          Urban              85.28  26.2          Unknown   \n",
            "\n",
            "      stroke  \n",
            "0          1  \n",
            "1          1  \n",
            "2          1  \n",
            "3          1  \n",
            "4          1  \n",
            "...      ...  \n",
            "5105       0  \n",
            "5106       0  \n",
            "5107       0  \n",
            "5108       0  \n",
            "5109       0  \n",
            "\n",
            "[5110 rows x 12 columns]\n",
            "\n",
            " - Hay algún NaN en el dataset: True\n",
            "\n",
            " - Dime si hay un valor NaN en la fila/columna: \n",
            "          id  gender    age  hypertension  heart_disease  ever_married  \\\n",
            "0     False   False  False         False          False         False   \n",
            "1     False   False  False         False          False         False   \n",
            "2     False   False  False         False          False         False   \n",
            "3     False   False  False         False          False         False   \n",
            "4     False   False  False         False          False         False   \n",
            "...     ...     ...    ...           ...            ...           ...   \n",
            "5105  False   False  False         False          False         False   \n",
            "5106  False   False  False         False          False         False   \n",
            "5107  False   False  False         False          False         False   \n",
            "5108  False   False  False         False          False         False   \n",
            "5109  False   False  False         False          False         False   \n",
            "\n",
            "      work_type  Residence_type  avg_glucose_level    bmi  smoking_status  \\\n",
            "0         False           False              False  False           False   \n",
            "1         False           False              False   True           False   \n",
            "2         False           False              False  False           False   \n",
            "3         False           False              False  False           False   \n",
            "4         False           False              False  False           False   \n",
            "...         ...             ...                ...    ...             ...   \n",
            "5105      False           False              False   True           False   \n",
            "5106      False           False              False  False           False   \n",
            "5107      False           False              False  False           False   \n",
            "5108      False           False              False  False           False   \n",
            "5109      False           False              False  False           False   \n",
            "\n",
            "      stroke  \n",
            "0      False  \n",
            "1      False  \n",
            "2      False  \n",
            "3      False  \n",
            "4      False  \n",
            "...      ...  \n",
            "5105   False  \n",
            "5106   False  \n",
            "5107   False  \n",
            "5108   False  \n",
            "5109   False  \n",
            "\n",
            "[5110 rows x 12 columns]\n",
            "\n",
            " - Columnas con NaNs:\n",
            "          id  gender   age  hypertension  heart_disease ever_married  \\\n",
            "1     51676  Female  61.0             0              0          Yes   \n",
            "8     27419  Female  59.0             0              0          Yes   \n",
            "13     8213    Male  78.0             0              1          Yes   \n",
            "19    25226    Male  57.0             0              1           No   \n",
            "27    61843    Male  58.0             0              0          Yes   \n",
            "...     ...     ...   ...           ...            ...          ...   \n",
            "5039  42007    Male  41.0             0              0           No   \n",
            "5048  28788    Male  40.0             0              0          Yes   \n",
            "5093  32235  Female  45.0             1              0          Yes   \n",
            "5099   7293    Male  40.0             0              0          Yes   \n",
            "5105  18234  Female  80.0             1              0          Yes   \n",
            "\n",
            "          work_type Residence_type  avg_glucose_level  bmi   smoking_status  \\\n",
            "1     Self-employed          Rural             202.21  NaN     never smoked   \n",
            "8           Private          Rural              76.15  NaN          Unknown   \n",
            "13          Private          Urban             219.84  NaN          Unknown   \n",
            "19         Govt_job          Urban             217.08  NaN          Unknown   \n",
            "27          Private          Rural             189.84  NaN          Unknown   \n",
            "...             ...            ...                ...  ...              ...   \n",
            "5039        Private          Rural              70.15  NaN  formerly smoked   \n",
            "5048        Private          Urban             191.15  NaN           smokes   \n",
            "5093       Govt_job          Rural              95.02  NaN           smokes   \n",
            "5099        Private          Rural              83.94  NaN           smokes   \n",
            "5105        Private          Urban              83.75  NaN     never smoked   \n",
            "\n",
            "      stroke  \n",
            "1          1  \n",
            "8          1  \n",
            "13         1  \n",
            "19         1  \n",
            "27         1  \n",
            "...      ...  \n",
            "5039       0  \n",
            "5048       0  \n",
            "5093       0  \n",
            "5099       0  \n",
            "5105       0  \n",
            "\n",
            "[201 rows x 12 columns]\n",
            "\n",
            " - Hay algún NaN en el dataset: \n",
            " False\n",
            "\n",
            " - Dataset limpio: \n",
            "          id  gender   age  hypertension  heart_disease ever_married  \\\n",
            "0      9046    Male  67.0             0              1          Yes   \n",
            "2     31112    Male  80.0             0              1          Yes   \n",
            "3     60182  Female  49.0             0              0          Yes   \n",
            "4      1665  Female  79.0             1              0          Yes   \n",
            "5     56669    Male  81.0             0              0          Yes   \n",
            "...     ...     ...   ...           ...            ...          ...   \n",
            "5104  14180  Female  13.0             0              0           No   \n",
            "5106  44873  Female  81.0             0              0          Yes   \n",
            "5107  19723  Female  35.0             0              0          Yes   \n",
            "5108  37544    Male  51.0             0              0          Yes   \n",
            "5109  44679  Female  44.0             0              0          Yes   \n",
            "\n",
            "          work_type Residence_type  avg_glucose_level   bmi   smoking_status  \\\n",
            "0           Private          Urban             228.69  36.6  formerly smoked   \n",
            "2           Private          Rural             105.92  32.5     never smoked   \n",
            "3           Private          Urban             171.23  34.4           smokes   \n",
            "4     Self-employed          Rural             174.12  24.0     never smoked   \n",
            "5           Private          Urban             186.21  29.0  formerly smoked   \n",
            "...             ...            ...                ...   ...              ...   \n",
            "5104       children          Rural             103.08  18.6          Unknown   \n",
            "5106  Self-employed          Urban             125.20  40.0     never smoked   \n",
            "5107  Self-employed          Rural              82.99  30.6     never smoked   \n",
            "5108        Private          Rural             166.29  25.6  formerly smoked   \n",
            "5109       Govt_job          Urban              85.28  26.2          Unknown   \n",
            "\n",
            "      stroke  \n",
            "0          1  \n",
            "2          1  \n",
            "3          1  \n",
            "4          1  \n",
            "5          1  \n",
            "...      ...  \n",
            "5104       0  \n",
            "5106       0  \n",
            "5107       0  \n",
            "5108       0  \n",
            "5109       0  \n",
            "\n",
            "[4909 rows x 12 columns]\n"
          ]
        }
      ]
    },
    {
      "cell_type": "markdown",
      "metadata": {
        "id": "IeRheKQO6Sgb"
      },
      "source": [
        "## Transformación de *datos*"
      ]
    },
    {
      "cell_type": "code",
      "metadata": {
        "colab": {
          "base_uri": "https://localhost:8080/"
        },
        "id": "yE6S1_VA6YIn",
        "outputId": "8f561d54-a527-451d-ce02-426fc0322532"
      },
      "source": [
        "from sklearn import preprocessing\n",
        "# El método MinMaxScaler de sklearn nos permite aplicar un rescalado en el rango\n",
        "# especificado\n",
        "scaler = preprocessing.MinMaxScaler(feature_range=(0,1))\n",
        "# Seleccionamos columnas con valores numéricos de interés\n",
        "df_s = df[['age', 'avg_glucose_level', 'bmi']]\n",
        "print(\" => Datos NO rescalados: \\n\", df_s[0:5])\n",
        "# Aplicamos la función de scaling\n",
        "df_scaled = pd.DataFrame(scaler.fit_transform(df_s), columns=df_s.columns)\n",
        "print(\" => Datos rescalados: \\n\", df_scaled[0:5])"
      ],
      "execution_count": 6,
      "outputs": [
        {
          "output_type": "stream",
          "name": "stdout",
          "text": [
            " => Datos NO rescalados: \n",
            "     age  avg_glucose_level   bmi\n",
            "0  67.0             228.69  36.6\n",
            "2  80.0             105.92  32.5\n",
            "3  49.0             171.23  34.4\n",
            "4  79.0             174.12  24.0\n",
            "5  81.0             186.21  29.0\n",
            " => Datos rescalados: \n",
            "         age  avg_glucose_level       bmi\n",
            "0  0.816895           0.801265  0.301260\n",
            "1  0.975586           0.234512  0.254296\n",
            "2  0.597168           0.536008  0.276060\n",
            "3  0.963379           0.549349  0.156930\n",
            "4  0.987793           0.605161  0.214204\n"
          ]
        }
      ]
    },
    {
      "cell_type": "code",
      "metadata": {
        "colab": {
          "base_uri": "https://localhost:8080/",
          "height": 358
        },
        "id": "YHyiDLCVJdz9",
        "outputId": "549ae88d-e3ce-4bcc-fdcf-c258119710a4"
      },
      "source": [
        "# Normalización \n",
        "df_norm = (df_scaled - df_scaled.mean()) / df_scaled.std()\n",
        "\n",
        "# Veámos el resultado\n",
        "import matplotlib.pyplot as plt\n",
        "fig = plt.figure(1, figsize=(12, 5))\n",
        "plt.subplot(131)\n",
        "plt.hist(df['bmi'].values)\n",
        "plt.title(\"Inicial\")\n",
        "plt.subplot(132)\n",
        "plt.hist(df_scaled['bmi'].values)\n",
        "plt.title(\"Rescalado\")\n",
        "plt.subplot(133)\n",
        "plt.hist(df_norm['bmi'].values)\n",
        "plt.title(\"Normalizado\")"
      ],
      "execution_count": 7,
      "outputs": [
        {
          "output_type": "execute_result",
          "data": {
            "text/plain": [
              "Text(0.5, 1.0, 'Normalizado')"
            ]
          },
          "metadata": {},
          "execution_count": 7
        },
        {
          "output_type": "display_data",
          "data": {
            "image/png": "[encoded data removed]",
            "text/plain": [
              "<Figure size 864x360 with 3 Axes>"
            ]
          },
          "metadata": {
            "needs_background": "light"
          }
        }
      ]
    },
    {
      "cell_type": "markdown",
      "source": [
        "## Codificación de variables categóricas"
      ],
      "metadata": {
        "id": "bJdelFQANaBY"
      }
    },
    {
      "cell_type": "code",
      "source": [
        "# Ejemplo de codificación one-hot con pandas\n",
        "df = df[['id', 'age', 'bmi', 'gender']]\n",
        "cod_gen = pd.get_dummies(df, prefix='gender')\n",
        "print(cod_gen.head())"
      ],
      "metadata": {
        "id": "zYBZI9yyNfWs",
        "outputId": "dd4759d6-b7d0-40f0-82de-57d7d3f382f4",
        "colab": {
          "base_uri": "https://localhost:8080/"
        }
      },
      "execution_count": 10,
      "outputs": [
        {
          "output_type": "stream",
          "name": "stdout",
          "text": [
            "      id   age   bmi  gender_Female  gender_Male  gender_Other\n",
            "0   9046  67.0  36.6              0            1             0\n",
            "2  31112  80.0  32.5              0            1             0\n",
            "3  60182  49.0  34.4              1            0             0\n",
            "4   1665  79.0  24.0              1            0             0\n",
            "5  56669  81.0  29.0              0            1             0\n"
          ]
        }
      ]
    },
    {
      "cell_type": "code",
      "source": [
        "# Ejemplo basado en funciones de SKLearn\n",
        "from sklearn.preprocessing import LabelBinarizer\n",
        "data = LabelBinarizer().fit_transform(df.gender)\n",
        "print(data)\n",
        "\n",
        "from sklearn.preprocessing import OneHotEncoder\n",
        "cod_gen = OneHotEncoder().fit_transform(data).toarray()\n",
        "print(cod_gen)"
      ],
      "metadata": {
        "id": "LdjQWMkXOucV",
        "outputId": "7343feb6-480b-4bb4-82fe-73bfcc6f27bd",
        "colab": {
          "base_uri": "https://localhost:8080/"
        }
      },
      "execution_count": 14,
      "outputs": [
        {
          "output_type": "stream",
          "name": "stdout",
          "text": [
            "[[0 1 0]\n",
            " [0 1 0]\n",
            " [1 0 0]\n",
            " ...\n",
            " [1 0 0]\n",
            " [0 1 0]\n",
            " [1 0 0]]\n",
            "[[1. 0. 0. 1. 1. 0.]\n",
            " [1. 0. 0. 1. 1. 0.]\n",
            " [0. 1. 1. 0. 1. 0.]\n",
            " ...\n",
            " [0. 1. 1. 0. 1. 0.]\n",
            " [1. 0. 0. 1. 1. 0.]\n",
            " [0. 1. 1. 0. 1. 0.]]\n"
          ]
        }
      ]
    }
  ]
}